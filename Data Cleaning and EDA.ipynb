{
 "cells": [
  {
   "cell_type": "markdown",
   "metadata": {},
   "source": [
    "# Import Statements"
   ]
  },
  {
   "cell_type": "code",
   "execution_count": 1,
   "metadata": {
    "ExecuteTime": {
     "end_time": "2017-11-12T15:17:22.606126Z",
     "start_time": "2017-11-12T15:17:13.953574Z"
    },
    "collapsed": true
   },
   "outputs": [],
   "source": [
    "import pandas as pd\n",
    "import numpy as np\n",
    "import matplotlib.pyplot as plt\n",
    "import datetime\n",
    "%matplotlib inline"
   ]
  },
  {
   "cell_type": "code",
   "execution_count": 2,
   "metadata": {
    "ExecuteTime": {
     "end_time": "2017-11-12T15:17:23.327123Z",
     "start_time": "2017-11-12T15:17:22.610019Z"
    },
    "collapsed": true
   },
   "outputs": [],
   "source": [
    "# Mapping packages:\n",
    "import folium"
   ]
  },
  {
   "cell_type": "code",
   "execution_count": 3,
   "metadata": {
    "ExecuteTime": {
     "end_time": "2017-11-12T15:17:23.338055Z",
     "start_time": "2017-11-12T15:17:23.327123Z"
    },
    "collapsed": true
   },
   "outputs": [],
   "source": [
    "# import geopandas as gpd"
   ]
  },
  {
   "cell_type": "markdown",
   "metadata": {},
   "source": [
    "To install geopandas and folium:\n",
    "\n",
    "`conda install -c conda-forge geopandas`\n",
    "\n",
    "`conda install -c conda-forge folium `\n",
    "\n",
    "then:\n",
    "\n",
    "`jupyter nbextension enable vega --py --sys-prefix`\n",
    "\n",
    "to enable the necessary notebook extension to use Folium."
   ]
  },
  {
   "cell_type": "markdown",
   "metadata": {
    "heading_collapsed": true
   },
   "source": [
    "# Importing Data"
   ]
  },
  {
   "cell_type": "code",
   "execution_count": 4,
   "metadata": {
    "ExecuteTime": {
     "end_time": "2017-11-12T15:17:23.663615Z",
     "start_time": "2017-11-12T15:17:23.344574Z"
    },
    "collapsed": true,
    "hidden": true
   },
   "outputs": [],
   "source": [
    "# Don't edit raw dataframes after they have been imported:\n",
    "train_raw = pd.read_csv('assets/train.csv')\n",
    "test_raw = pd.read_csv('assets/test.csv', index_col=0)\n",
    "weather_raw = pd.read_csv('assets/weather.csv')\n",
    "spray_raw = pd.read_csv('assets/spray.csv')\n",
    "\n",
    "# These can be the cleaned versions:\n",
    "train = train_raw.copy().drop(['Address','Block','Street','AddressNumberAndStreet','AddressAccuracy'], axis=1)\n",
    "test = test_raw.copy().drop(['Address','Block','Street','AddressNumberAndStreet', 'AddressAccuracy'], axis=1)\n",
    "# If we're using latitude and longitude we can drop out the address info.\n",
    "weather = weather_raw.copy()\n",
    "spray = spray_raw.copy()"
   ]
  },
  {
   "cell_type": "markdown",
   "metadata": {
    "heading_collapsed": true
   },
   "source": [
    "# Cleaning Data and EDA, train and test"
   ]
  },
  {
   "cell_type": "markdown",
   "metadata": {
    "hidden": true
   },
   "source": [
    "## Simple Map showing the Weather Stations (airports)"
   ]
  },
  {
   "cell_type": "code",
   "execution_count": 5,
   "metadata": {
    "ExecuteTime": {
     "end_time": "2017-11-12T15:17:23.835382Z",
     "start_time": "2017-11-12T15:17:23.663615Z"
    },
    "hidden": true
   },
   "outputs": [
    {
     "data": {
      "text/html": [
       "<div style=\"width:100%;\"><div style=\"position:relative;width:100%;height:0;padding-bottom:60%;\"><iframe src=\"data:text/html;charset=utf-8;base64,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\" style=\"position:absolute;width:100%;height:100%;left:0;top:0;border:none !important;\" allowfullscreen webkitallowfullscreen mozallowfullscreen></iframe></div></div>"
      ],
      "text/plain": [
       "<folium.folium.Map at 0x22efa66a6a0>"
      ]
     },
     "execution_count": 5,
     "metadata": {},
     "output_type": "execute_result"
    }
   ],
   "source": [
    "m = folium.Map(\n",
    "    location=[41.883844, -87.632162],\n",
    "    tiles='openstreetmap',\n",
    "    zoom_start=10,\n",
    "    max_zoom = 10,\n",
    "    min_zoom = 10\n",
    ")\n",
    "\n",
    "#folium.tooltip = 'Click Me!' #WARNING: Tooltips are not in this release; use the dev one if you want it\n",
    "\n",
    "folium.Marker([41.973312, -87.910576], popup='OHare Iternational Airport', icon=folium.Icon(icon='plane', color = 'red')).add_to(m)\n",
    "folium.Marker([41.786, -87.752], popup='Midway International Airport', icon=folium.Icon(icon='plane', color = 'green')).add_to(m)\n",
    "\n",
    "m"
   ]
  },
  {
   "cell_type": "markdown",
   "metadata": {
    "hidden": true
   },
   "source": [
    "## Examining the training set:"
   ]
  },
  {
   "cell_type": "code",
   "execution_count": 6,
   "metadata": {
    "ExecuteTime": {
     "end_time": "2017-11-12T15:17:23.916042Z",
     "start_time": "2017-11-12T15:17:23.840898Z"
    },
    "hidden": true
   },
   "outputs": [
    {
     "data": {
      "text/html": [
       "<div>\n",
       "<style>\n",
       "    .dataframe thead tr:only-child th {\n",
       "        text-align: right;\n",
       "    }\n",
       "\n",
       "    .dataframe thead th {\n",
       "        text-align: left;\n",
       "    }\n",
       "\n",
       "    .dataframe tbody tr th {\n",
       "        vertical-align: top;\n",
       "    }\n",
       "</style>\n",
       "<table border=\"1\" class=\"dataframe\">\n",
       "  <thead>\n",
       "    <tr style=\"text-align: right;\">\n",
       "      <th></th>\n",
       "      <th>Date</th>\n",
       "      <th>Species</th>\n",
       "      <th>Trap</th>\n",
       "      <th>Latitude</th>\n",
       "      <th>Longitude</th>\n",
       "      <th>NumMosquitos</th>\n",
       "      <th>WnvPresent</th>\n",
       "    </tr>\n",
       "  </thead>\n",
       "  <tbody>\n",
       "    <tr>\n",
       "      <th>0</th>\n",
       "      <td>2007-05-29</td>\n",
       "      <td>CULEX PIPIENS/RESTUANS</td>\n",
       "      <td>T002</td>\n",
       "      <td>41.954690</td>\n",
       "      <td>-87.800991</td>\n",
       "      <td>1</td>\n",
       "      <td>0</td>\n",
       "    </tr>\n",
       "    <tr>\n",
       "      <th>1</th>\n",
       "      <td>2007-05-29</td>\n",
       "      <td>CULEX RESTUANS</td>\n",
       "      <td>T002</td>\n",
       "      <td>41.954690</td>\n",
       "      <td>-87.800991</td>\n",
       "      <td>1</td>\n",
       "      <td>0</td>\n",
       "    </tr>\n",
       "    <tr>\n",
       "      <th>2</th>\n",
       "      <td>2007-05-29</td>\n",
       "      <td>CULEX RESTUANS</td>\n",
       "      <td>T007</td>\n",
       "      <td>41.994991</td>\n",
       "      <td>-87.769279</td>\n",
       "      <td>1</td>\n",
       "      <td>0</td>\n",
       "    </tr>\n",
       "    <tr>\n",
       "      <th>3</th>\n",
       "      <td>2007-05-29</td>\n",
       "      <td>CULEX PIPIENS/RESTUANS</td>\n",
       "      <td>T015</td>\n",
       "      <td>41.974089</td>\n",
       "      <td>-87.824812</td>\n",
       "      <td>1</td>\n",
       "      <td>0</td>\n",
       "    </tr>\n",
       "    <tr>\n",
       "      <th>4</th>\n",
       "      <td>2007-05-29</td>\n",
       "      <td>CULEX RESTUANS</td>\n",
       "      <td>T015</td>\n",
       "      <td>41.974089</td>\n",
       "      <td>-87.824812</td>\n",
       "      <td>4</td>\n",
       "      <td>0</td>\n",
       "    </tr>\n",
       "  </tbody>\n",
       "</table>\n",
       "</div>"
      ],
      "text/plain": [
       "        Date                 Species  Trap   Latitude  Longitude  \\\n",
       "0 2007-05-29  CULEX PIPIENS/RESTUANS  T002  41.954690 -87.800991   \n",
       "1 2007-05-29          CULEX RESTUANS  T002  41.954690 -87.800991   \n",
       "2 2007-05-29          CULEX RESTUANS  T007  41.994991 -87.769279   \n",
       "3 2007-05-29  CULEX PIPIENS/RESTUANS  T015  41.974089 -87.824812   \n",
       "4 2007-05-29          CULEX RESTUANS  T015  41.974089 -87.824812   \n",
       "\n",
       "   NumMosquitos  WnvPresent  \n",
       "0             1           0  \n",
       "1             1           0  \n",
       "2             1           0  \n",
       "3             1           0  \n",
       "4             4           0  "
      ]
     },
     "execution_count": 6,
     "metadata": {},
     "output_type": "execute_result"
    }
   ],
   "source": [
    "test['Date'] = pd.to_datetime(test['Date'], format='%Y/%m/%d')\n",
    "train['Date'] = pd.to_datetime(train['Date'], format='%Y/%m/%d')\n",
    "train.head()"
   ]
  },
  {
   "cell_type": "markdown",
   "metadata": {
    "hidden": true
   },
   "source": [
    "### Exploring Species Column -- Ben"
   ]
  },
  {
   "cell_type": "code",
   "execution_count": 7,
   "metadata": {
    "ExecuteTime": {
     "end_time": "2017-11-12T15:17:23.928061Z",
     "start_time": "2017-11-12T15:17:23.916042Z"
    },
    "hidden": true
   },
   "outputs": [
    {
     "data": {
      "text/plain": [
       "CULEX PIPIENS/RESTUANS    4752\n",
       "CULEX RESTUANS            2740\n",
       "CULEX PIPIENS             2699\n",
       "CULEX TERRITANS            222\n",
       "CULEX SALINARIUS            86\n",
       "CULEX TARSALIS               6\n",
       "CULEX ERRATICUS              1\n",
       "Name: Species, dtype: int64"
      ]
     },
     "execution_count": 7,
     "metadata": {},
     "output_type": "execute_result"
    }
   ],
   "source": [
    "train['Species'].value_counts() # WNV is transmitted by all mosquitos in the Culex genus."
   ]
  },
  {
   "cell_type": "markdown",
   "metadata": {
    "hidden": true
   },
   "source": [
    "[Which mosquitos spread WNV?](https://wwwnc.cdc.gov/eid/article/7/6/01-0617_article)"
   ]
  },
  {
   "cell_type": "code",
   "execution_count": 8,
   "metadata": {
    "ExecuteTime": {
     "end_time": "2017-11-12T15:17:23.946077Z",
     "start_time": "2017-11-12T15:17:23.928061Z"
    },
    "hidden": true
   },
   "outputs": [
    {
     "data": {
      "text/html": [
       "<div>\n",
       "<style>\n",
       "    .dataframe thead tr:only-child th {\n",
       "        text-align: right;\n",
       "    }\n",
       "\n",
       "    .dataframe thead th {\n",
       "        text-align: left;\n",
       "    }\n",
       "\n",
       "    .dataframe tbody tr th {\n",
       "        vertical-align: top;\n",
       "    }\n",
       "</style>\n",
       "<table border=\"1\" class=\"dataframe\">\n",
       "  <thead>\n",
       "    <tr style=\"text-align: right;\">\n",
       "      <th></th>\n",
       "      <th>NumMosquitos</th>\n",
       "      <th>WnvPresent</th>\n",
       "    </tr>\n",
       "    <tr>\n",
       "      <th>Species</th>\n",
       "      <th></th>\n",
       "      <th></th>\n",
       "    </tr>\n",
       "  </thead>\n",
       "  <tbody>\n",
       "    <tr>\n",
       "      <th>CULEX ERRATICUS</th>\n",
       "      <td>7.000000</td>\n",
       "      <td>0.000000</td>\n",
       "    </tr>\n",
       "    <tr>\n",
       "      <th>CULEX PIPIENS</th>\n",
       "      <td>16.550945</td>\n",
       "      <td>0.088922</td>\n",
       "    </tr>\n",
       "    <tr>\n",
       "      <th>CULEX PIPIENS/RESTUANS</th>\n",
       "      <td>13.945286</td>\n",
       "      <td>0.055135</td>\n",
       "    </tr>\n",
       "    <tr>\n",
       "      <th>CULEX RESTUANS</th>\n",
       "      <td>8.551460</td>\n",
       "      <td>0.017883</td>\n",
       "    </tr>\n",
       "    <tr>\n",
       "      <th>CULEX SALINARIUS</th>\n",
       "      <td>1.686047</td>\n",
       "      <td>0.000000</td>\n",
       "    </tr>\n",
       "    <tr>\n",
       "      <th>CULEX TARSALIS</th>\n",
       "      <td>1.166667</td>\n",
       "      <td>0.000000</td>\n",
       "    </tr>\n",
       "    <tr>\n",
       "      <th>CULEX TERRITANS</th>\n",
       "      <td>2.297297</td>\n",
       "      <td>0.000000</td>\n",
       "    </tr>\n",
       "  </tbody>\n",
       "</table>\n",
       "</div>"
      ],
      "text/plain": [
       "                        NumMosquitos  WnvPresent\n",
       "Species                                         \n",
       "CULEX ERRATICUS             7.000000    0.000000\n",
       "CULEX PIPIENS              16.550945    0.088922\n",
       "CULEX PIPIENS/RESTUANS     13.945286    0.055135\n",
       "CULEX RESTUANS              8.551460    0.017883\n",
       "CULEX SALINARIUS            1.686047    0.000000\n",
       "CULEX TARSALIS              1.166667    0.000000\n",
       "CULEX TERRITANS             2.297297    0.000000"
      ]
     },
     "execution_count": 8,
     "metadata": {},
     "output_type": "execute_result"
    }
   ],
   "source": [
    "# In the training dataset, only Culex Pipiens and Culex Restuans carried WNV.\n",
    "train.groupby(by ='Species')['NumMosquitos','WnvPresent'].mean()"
   ]
  },
  {
   "cell_type": "markdown",
   "metadata": {
    "hidden": true
   },
   "source": [
    "### Exploring the Trap Column"
   ]
  },
  {
   "cell_type": "code",
   "execution_count": 9,
   "metadata": {
    "ExecuteTime": {
     "end_time": "2017-11-12T15:17:23.963730Z",
     "start_time": "2017-11-12T15:17:23.947578Z"
    },
    "hidden": true
   },
   "outputs": [
    {
     "name": "stdout",
     "output_type": "stream",
     "text": [
      "136 traps in the training set \n",
      "\n",
      "149 traps in the training set\n"
     ]
    }
   ],
   "source": [
    "print(str(train['Trap'].nunique()) + ' traps in the training set \\n')\n",
    "print(str(test['Trap'].nunique()) + ' traps in the training set')"
   ]
  },
  {
   "cell_type": "markdown",
   "metadata": {
    "collapsed": true
   },
   "source": [
    "# Cleaning Data and EDA, weather -- Steve"
   ]
  },
  {
   "cell_type": "markdown",
   "metadata": {},
   "source": [
    "NB: Weather data is from May 2007 to the end of October 2014"
   ]
  },
  {
   "cell_type": "markdown",
   "metadata": {},
   "source": [
    "## Checking for Missing Data and Non-numeric Values"
   ]
  },
  {
   "cell_type": "code",
   "execution_count": 10,
   "metadata": {
    "ExecuteTime": {
     "end_time": "2017-11-12T15:17:23.975747Z",
     "start_time": "2017-11-12T15:17:23.963730Z"
    },
    "collapsed": true
   },
   "outputs": [],
   "source": [
    "# Formatting datetime\n",
    "weather['Date'] = pd.to_datetime(weather['Date'], format='%Y/%m/%d')"
   ]
  },
  {
   "cell_type": "code",
   "execution_count": 11,
   "metadata": {
    "ExecuteTime": {
     "end_time": "2017-11-12T15:17:24.003785Z",
     "start_time": "2017-11-12T15:17:23.975747Z"
    },
    "collapsed": true
   },
   "outputs": [],
   "source": [
    "# Replacing missing with Null and only keep certain columns:\n",
    "weather = weather[['Station', 'Date', 'Tmax', 'Tmin', 'Tavg',\n",
    "                   'Depart', 'DewPoint', 'WetBulb', 'PrecipTotal','Sunrise','Sunset']].replace('M', np.NaN)\n",
    "# Sunrise and sunset data is only available from station. That is fine. Replace '-' from that station with Null.\n",
    "weather = weather[['Station', 'Date', 'Tmax', 'Tmin', 'Tavg',\n",
    "                   'Depart', 'DewPoint', 'WetBulb', 'PrecipTotal','Sunrise','Sunset']].replace('-', np.NaN)\n",
    "# Sunrise and sunset data is only available from station. That is fine. Replace '-' from that station with Null.\n",
    "weather = weather[['Station', 'Date', 'Tmax', 'Tmin', 'Tavg',\n",
    "                   'Depart', 'DewPoint', 'WetBulb', 'PrecipTotal','Sunrise','Sunset']].replace('  T', .01)"
   ]
  },
  {
   "cell_type": "code",
   "execution_count": 12,
   "metadata": {
    "ExecuteTime": {
     "end_time": "2017-11-12T15:17:25.413604Z",
     "start_time": "2017-11-12T15:17:24.003785Z"
    },
    "collapsed": true
   },
   "outputs": [],
   "source": [
    "weather_consolidated = weather.groupby(by='Date').agg(lambda x: np.nanmean(pd.to_numeric(x)))"
   ]
  },
  {
   "cell_type": "code",
   "execution_count": 13,
   "metadata": {
    "ExecuteTime": {
     "end_time": "2017-11-12T15:17:25.429917Z",
     "start_time": "2017-11-12T15:17:25.415884Z"
    }
   },
   "outputs": [
    {
     "data": {
      "text/plain": [
       "Station        0\n",
       "Tmax           0\n",
       "Tmin           0\n",
       "Tavg           0\n",
       "Depart         0\n",
       "DewPoint       0\n",
       "WetBulb        0\n",
       "PrecipTotal    0\n",
       "Sunrise        0\n",
       "Sunset         0\n",
       "dtype: int64"
      ]
     },
     "execution_count": 13,
     "metadata": {},
     "output_type": "execute_result"
    }
   ],
   "source": [
    "# No null values in our averaged and consolidated data set!\n",
    "weather_consolidated.isnull().sum()"
   ]
  },
  {
   "cell_type": "markdown",
   "metadata": {},
   "source": [
    "## Labeling Weather Stations -- Steve"
   ]
  },
  {
   "cell_type": "code",
   "execution_count": 14,
   "metadata": {
    "ExecuteTime": {
     "end_time": "2017-11-12T15:17:25.453947Z",
     "start_time": "2017-11-12T15:17:25.429917Z"
    },
    "collapsed": true
   },
   "outputs": [],
   "source": [
    "weather['Station'] = weather['Station'].astype(str)\n",
    "\n",
    "#Converting to string so I can run the Map function below.\n",
    "\n",
    "weather[\"Station Location\"] = weather[\"Station\"].map(lambda x: \"O'HARE\" if '1' in x else \"MIDWAY\" if '2' in x else \"\")"
   ]
  },
  {
   "cell_type": "code",
   "execution_count": 15,
   "metadata": {
    "ExecuteTime": {
     "end_time": "2017-11-12T15:17:25.473977Z",
     "start_time": "2017-11-12T15:17:25.453947Z"
    },
    "collapsed": true
   },
   "outputs": [],
   "source": [
    "weather['Station'] = weather['Station'].astype(int)\n",
    "#And back to integer now for math usage\n",
    "\n",
    "# O'Hare: 41.970748, -87.908336\n",
    "# Midway: 41.787957, -87.752359\n",
    "\n",
    "weather[\"Latitude\"] = weather[\"Station Location\"].map(lambda x: \"41.970748\" if \"O'HARE\" in x else \"41.787957\" if \"MIDWAY\" in x else \"\")\n",
    "weather[\"Longitude\"] = weather[\"Station Location\"].map(lambda x: \"-87.908336\" if \"O'HARE\" in x else \"-87.752359\" if \"MIDWAY\" in x else \"\")"
   ]
  },
  {
   "cell_type": "code",
   "execution_count": 16,
   "metadata": {
    "ExecuteTime": {
     "end_time": "2017-11-12T15:17:25.498006Z",
     "start_time": "2017-11-12T15:17:25.477980Z"
    },
    "collapsed": true
   },
   "outputs": [],
   "source": [
    "#Mapping latitude and longitude for the airports\n",
    "\n",
    "weather[\"Latitude\"] = weather[\"Latitude\"].astype(float)\n",
    "weather[\"Longitude\"] = weather[\"Longitude\"].astype(float)\n",
    "\n",
    "#Converting the string entries of location back into floats for math usage"
   ]
  },
  {
   "cell_type": "code",
   "execution_count": 17,
   "metadata": {
    "ExecuteTime": {
     "end_time": "2017-11-12T15:17:25.538099Z",
     "start_time": "2017-11-12T15:17:25.498006Z"
    }
   },
   "outputs": [
    {
     "data": {
      "text/html": [
       "<div>\n",
       "<style>\n",
       "    .dataframe thead tr:only-child th {\n",
       "        text-align: right;\n",
       "    }\n",
       "\n",
       "    .dataframe thead th {\n",
       "        text-align: left;\n",
       "    }\n",
       "\n",
       "    .dataframe tbody tr th {\n",
       "        vertical-align: top;\n",
       "    }\n",
       "</style>\n",
       "<table border=\"1\" class=\"dataframe\">\n",
       "  <thead>\n",
       "    <tr style=\"text-align: right;\">\n",
       "      <th></th>\n",
       "      <th>Station</th>\n",
       "      <th>Date</th>\n",
       "      <th>Tmax</th>\n",
       "      <th>Tmin</th>\n",
       "      <th>Tavg</th>\n",
       "      <th>Depart</th>\n",
       "      <th>DewPoint</th>\n",
       "      <th>WetBulb</th>\n",
       "      <th>PrecipTotal</th>\n",
       "      <th>Sunrise</th>\n",
       "      <th>Sunset</th>\n",
       "      <th>Station Location</th>\n",
       "      <th>Latitude</th>\n",
       "      <th>Longitude</th>\n",
       "    </tr>\n",
       "  </thead>\n",
       "  <tbody>\n",
       "    <tr>\n",
       "      <th>0</th>\n",
       "      <td>1</td>\n",
       "      <td>2007-05-01</td>\n",
       "      <td>83</td>\n",
       "      <td>50</td>\n",
       "      <td>67</td>\n",
       "      <td>14</td>\n",
       "      <td>51</td>\n",
       "      <td>56</td>\n",
       "      <td>0.00</td>\n",
       "      <td>0448</td>\n",
       "      <td>1849</td>\n",
       "      <td>O'HARE</td>\n",
       "      <td>41.970748</td>\n",
       "      <td>-87.908336</td>\n",
       "    </tr>\n",
       "    <tr>\n",
       "      <th>1</th>\n",
       "      <td>2</td>\n",
       "      <td>2007-05-01</td>\n",
       "      <td>84</td>\n",
       "      <td>52</td>\n",
       "      <td>68</td>\n",
       "      <td>NaN</td>\n",
       "      <td>51</td>\n",
       "      <td>57</td>\n",
       "      <td>0.00</td>\n",
       "      <td>NaN</td>\n",
       "      <td>NaN</td>\n",
       "      <td>MIDWAY</td>\n",
       "      <td>41.787957</td>\n",
       "      <td>-87.752359</td>\n",
       "    </tr>\n",
       "    <tr>\n",
       "      <th>2</th>\n",
       "      <td>1</td>\n",
       "      <td>2007-05-02</td>\n",
       "      <td>59</td>\n",
       "      <td>42</td>\n",
       "      <td>51</td>\n",
       "      <td>-3</td>\n",
       "      <td>42</td>\n",
       "      <td>47</td>\n",
       "      <td>0.00</td>\n",
       "      <td>0447</td>\n",
       "      <td>1850</td>\n",
       "      <td>O'HARE</td>\n",
       "      <td>41.970748</td>\n",
       "      <td>-87.908336</td>\n",
       "    </tr>\n",
       "    <tr>\n",
       "      <th>3</th>\n",
       "      <td>2</td>\n",
       "      <td>2007-05-02</td>\n",
       "      <td>60</td>\n",
       "      <td>43</td>\n",
       "      <td>52</td>\n",
       "      <td>NaN</td>\n",
       "      <td>42</td>\n",
       "      <td>47</td>\n",
       "      <td>0.00</td>\n",
       "      <td>NaN</td>\n",
       "      <td>NaN</td>\n",
       "      <td>MIDWAY</td>\n",
       "      <td>41.787957</td>\n",
       "      <td>-87.752359</td>\n",
       "    </tr>\n",
       "    <tr>\n",
       "      <th>4</th>\n",
       "      <td>1</td>\n",
       "      <td>2007-05-03</td>\n",
       "      <td>66</td>\n",
       "      <td>46</td>\n",
       "      <td>56</td>\n",
       "      <td>2</td>\n",
       "      <td>40</td>\n",
       "      <td>48</td>\n",
       "      <td>0.00</td>\n",
       "      <td>0446</td>\n",
       "      <td>1851</td>\n",
       "      <td>O'HARE</td>\n",
       "      <td>41.970748</td>\n",
       "      <td>-87.908336</td>\n",
       "    </tr>\n",
       "  </tbody>\n",
       "</table>\n",
       "</div>"
      ],
      "text/plain": [
       "   Station       Date  Tmax  Tmin Tavg Depart  DewPoint WetBulb PrecipTotal  \\\n",
       "0        1 2007-05-01    83    50   67     14        51      56        0.00   \n",
       "1        2 2007-05-01    84    52   68    NaN        51      57        0.00   \n",
       "2        1 2007-05-02    59    42   51     -3        42      47        0.00   \n",
       "3        2 2007-05-02    60    43   52    NaN        42      47        0.00   \n",
       "4        1 2007-05-03    66    46   56      2        40      48        0.00   \n",
       "\n",
       "  Sunrise Sunset Station Location   Latitude  Longitude  \n",
       "0    0448   1849           O'HARE  41.970748 -87.908336  \n",
       "1     NaN    NaN           MIDWAY  41.787957 -87.752359  \n",
       "2    0447   1850           O'HARE  41.970748 -87.908336  \n",
       "3     NaN    NaN           MIDWAY  41.787957 -87.752359  \n",
       "4    0446   1851           O'HARE  41.970748 -87.908336  "
      ]
     },
     "execution_count": 17,
     "metadata": {},
     "output_type": "execute_result"
    }
   ],
   "source": [
    "weather.head()"
   ]
  },
  {
   "cell_type": "code",
   "execution_count": 18,
   "metadata": {
    "ExecuteTime": {
     "end_time": "2017-11-12T15:17:25.558124Z",
     "start_time": "2017-11-12T15:17:25.538099Z"
    },
    "collapsed": true
   },
   "outputs": [],
   "source": [
    "weather2011 = weather.loc[(weather['Date'] > '2011-05-01') & (weather['Date'] <= '2011-10-31')]\n",
    "weather2013 = weather.loc[(weather['Date'] > '2013-05-01') & (weather['Date'] <= '2013-10-31')]\n",
    "\n",
    "#Making a subset of the weather data over just these years as thats all the spray data we have.\n",
    "\n",
    "weather2011 = weather2011.reset_index(drop=True)\n",
    "weather2013 = weather2013.reset_index(drop=True)"
   ]
  },
  {
   "cell_type": "markdown",
   "metadata": {},
   "source": [
    "# Cleaning Data and EDA, spray"
   ]
  },
  {
   "cell_type": "markdown",
   "metadata": {},
   "source": [
    "## Missing data and the like:"
   ]
  },
  {
   "cell_type": "code",
   "execution_count": 19,
   "metadata": {
    "ExecuteTime": {
     "end_time": "2017-11-12T15:17:25.566138Z",
     "start_time": "2017-11-12T15:17:25.558124Z"
    },
    "collapsed": true
   },
   "outputs": [],
   "source": [
    "spray.drop('Time',axis = 1, inplace=True)"
   ]
  },
  {
   "cell_type": "code",
   "execution_count": 20,
   "metadata": {
    "ExecuteTime": {
     "end_time": "2017-11-12T15:17:25.582157Z",
     "start_time": "2017-11-12T15:17:25.566138Z"
    },
    "collapsed": true
   },
   "outputs": [],
   "source": [
    "spray['Date'] = pd.to_datetime(spray['Date'], format='%Y/%m/%d')"
   ]
  },
  {
   "cell_type": "markdown",
   "metadata": {},
   "source": [
    "## Steve's work mapping the spray data:"
   ]
  },
  {
   "cell_type": "code",
   "execution_count": 21,
   "metadata": {
    "ExecuteTime": {
     "end_time": "2017-11-12T15:17:25.598179Z",
     "start_time": "2017-11-12T15:17:25.582157Z"
    }
   },
   "outputs": [
    {
     "data": {
      "text/html": [
       "<div>\n",
       "<style>\n",
       "    .dataframe thead tr:only-child th {\n",
       "        text-align: right;\n",
       "    }\n",
       "\n",
       "    .dataframe thead th {\n",
       "        text-align: left;\n",
       "    }\n",
       "\n",
       "    .dataframe tbody tr th {\n",
       "        vertical-align: top;\n",
       "    }\n",
       "</style>\n",
       "<table border=\"1\" class=\"dataframe\">\n",
       "  <thead>\n",
       "    <tr style=\"text-align: right;\">\n",
       "      <th></th>\n",
       "      <th>Date</th>\n",
       "      <th>Latitude</th>\n",
       "      <th>Longitude</th>\n",
       "    </tr>\n",
       "  </thead>\n",
       "  <tbody>\n",
       "    <tr>\n",
       "      <th>0</th>\n",
       "      <td>2011-08-29</td>\n",
       "      <td>42.391623</td>\n",
       "      <td>-88.089163</td>\n",
       "    </tr>\n",
       "    <tr>\n",
       "      <th>1</th>\n",
       "      <td>2011-08-29</td>\n",
       "      <td>42.391348</td>\n",
       "      <td>-88.089163</td>\n",
       "    </tr>\n",
       "    <tr>\n",
       "      <th>2</th>\n",
       "      <td>2011-08-29</td>\n",
       "      <td>42.391022</td>\n",
       "      <td>-88.089157</td>\n",
       "    </tr>\n",
       "    <tr>\n",
       "      <th>3</th>\n",
       "      <td>2011-08-29</td>\n",
       "      <td>42.390637</td>\n",
       "      <td>-88.089158</td>\n",
       "    </tr>\n",
       "    <tr>\n",
       "      <th>4</th>\n",
       "      <td>2011-08-29</td>\n",
       "      <td>42.390410</td>\n",
       "      <td>-88.088858</td>\n",
       "    </tr>\n",
       "  </tbody>\n",
       "</table>\n",
       "</div>"
      ],
      "text/plain": [
       "        Date   Latitude  Longitude\n",
       "0 2011-08-29  42.391623 -88.089163\n",
       "1 2011-08-29  42.391348 -88.089163\n",
       "2 2011-08-29  42.391022 -88.089157\n",
       "3 2011-08-29  42.390637 -88.089158\n",
       "4 2011-08-29  42.390410 -88.088858"
      ]
     },
     "execution_count": 21,
     "metadata": {},
     "output_type": "execute_result"
    }
   ],
   "source": [
    "spray.head()"
   ]
  },
  {
   "cell_type": "code",
   "execution_count": 22,
   "metadata": {
    "ExecuteTime": {
     "end_time": "2017-11-12T15:17:25.682325Z",
     "start_time": "2017-11-12T15:17:25.598179Z"
    },
    "collapsed": true
   },
   "outputs": [],
   "source": [
    "spray['CombinedLoc'] = spray.Latitude.astype(str).str.cat(spray.Longitude.astype(str), sep=', ')\n",
    "\n",
    "spray.Date.dtype\n",
    "\n",
    "spray['Date'] = pd.to_datetime(spray['Date'], format='%Y/%m/%d')\n",
    "\n",
    "#2011: 08-29 to 09/07\n",
    "#2013: 07-17 to 09/05\n",
    "\n",
    "spray2011 = spray.loc[(spray['Date'] > '2011-08-29') & (spray['Date'] <= '2011-09-07')]\n",
    "spray2013 = spray.loc[(spray['Date'] > '2013-07-17') & (spray['Date'] <= '2013-09-05')]\n",
    "\n",
    "spray2011 = spray2011.reset_index(drop=True)\n",
    "spray2013 = spray2013.reset_index(drop=True)"
   ]
  },
  {
   "cell_type": "code",
   "execution_count": 23,
   "metadata": {
    "ExecuteTime": {
     "end_time": "2017-11-12T15:17:25.702351Z",
     "start_time": "2017-11-12T15:17:25.686340Z"
    }
   },
   "outputs": [
    {
     "data": {
      "text/html": [
       "<div>\n",
       "<style>\n",
       "    .dataframe thead tr:only-child th {\n",
       "        text-align: right;\n",
       "    }\n",
       "\n",
       "    .dataframe thead th {\n",
       "        text-align: left;\n",
       "    }\n",
       "\n",
       "    .dataframe tbody tr th {\n",
       "        vertical-align: top;\n",
       "    }\n",
       "</style>\n",
       "<table border=\"1\" class=\"dataframe\">\n",
       "  <thead>\n",
       "    <tr style=\"text-align: right;\">\n",
       "      <th></th>\n",
       "      <th>Date</th>\n",
       "      <th>Latitude</th>\n",
       "      <th>Longitude</th>\n",
       "      <th>CombinedLoc</th>\n",
       "    </tr>\n",
       "  </thead>\n",
       "  <tbody>\n",
       "    <tr>\n",
       "      <th>0</th>\n",
       "      <td>2011-09-07</td>\n",
       "      <td>41.981433</td>\n",
       "      <td>-87.787777</td>\n",
       "      <td>41.9814333333, -87.7877766667</td>\n",
       "    </tr>\n",
       "    <tr>\n",
       "      <th>1</th>\n",
       "      <td>2011-09-07</td>\n",
       "      <td>41.980998</td>\n",
       "      <td>-87.787778</td>\n",
       "      <td>41.9809983333, -87.7877783333</td>\n",
       "    </tr>\n",
       "    <tr>\n",
       "      <th>2</th>\n",
       "      <td>2011-09-07</td>\n",
       "      <td>41.980560</td>\n",
       "      <td>-87.787762</td>\n",
       "      <td>41.98056, -87.7877616667</td>\n",
       "    </tr>\n",
       "    <tr>\n",
       "      <th>3</th>\n",
       "      <td>2011-09-07</td>\n",
       "      <td>41.980198</td>\n",
       "      <td>-87.787758</td>\n",
       "      <td>41.9801983333, -87.7877583333</td>\n",
       "    </tr>\n",
       "    <tr>\n",
       "      <th>4</th>\n",
       "      <td>2011-09-07</td>\n",
       "      <td>41.979752</td>\n",
       "      <td>-87.787765</td>\n",
       "      <td>41.9797516667, -87.787765</td>\n",
       "    </tr>\n",
       "  </tbody>\n",
       "</table>\n",
       "</div>"
      ],
      "text/plain": [
       "        Date   Latitude  Longitude                    CombinedLoc\n",
       "0 2011-09-07  41.981433 -87.787777  41.9814333333, -87.7877766667\n",
       "1 2011-09-07  41.980998 -87.787778  41.9809983333, -87.7877783333\n",
       "2 2011-09-07  41.980560 -87.787762       41.98056, -87.7877616667\n",
       "3 2011-09-07  41.980198 -87.787758  41.9801983333, -87.7877583333\n",
       "4 2011-09-07  41.979752 -87.787765      41.9797516667, -87.787765"
      ]
     },
     "execution_count": 23,
     "metadata": {},
     "output_type": "execute_result"
    }
   ],
   "source": [
    "spray2011.head()"
   ]
  },
  {
   "cell_type": "markdown",
   "metadata": {},
   "source": [
    "### Spraying locations in 2011:"
   ]
  },
  {
   "cell_type": "code",
   "execution_count": 24,
   "metadata": {
    "ExecuteTime": {
     "end_time": "2017-11-12T15:17:42.430524Z",
     "start_time": "2017-11-12T15:17:25.708388Z"
    },
    "collapsed": true
   },
   "outputs": [],
   "source": [
    "from folium import plugins\n",
    "from folium.plugins import MarkerCluster\n",
    "\n",
    "location2011 = spray2011['Latitude'].mean(), spray2011['Longitude'].mean()\n",
    "# locationlist2011 = spray2011[[\"Latitude\",\"Longitude\"]].values.tolist()\n",
    "\n",
    "map2011 = (folium.Map(location=location2011,zoom_start=13))\n",
    "\n",
    "for index,row in spray2011.iterrows():\n",
    "    folium.CircleMarker([row['Latitude'], row['Longitude']],\n",
    "                        radius=3,\n",
    "                        fill = True,\n",
    "                        color = \"#4286f4\", \n",
    "                        fill_color=\"#4286f4\"\n",
    "                       ).add_to(map2011)\n",
    "\n",
    "map2011.save('2011 Spray.html') "
   ]
  },
  {
   "cell_type": "markdown",
   "metadata": {},
   "source": [
    "### Spraying locations in 2013:"
   ]
  },
  {
   "cell_type": "code",
   "execution_count": 25,
   "metadata": {
    "ExecuteTime": {
     "end_time": "2017-11-12T15:19:05.207885Z",
     "start_time": "2017-11-12T15:17:42.430524Z"
    },
    "collapsed": true
   },
   "outputs": [],
   "source": [
    "map2013 = (folium.Map(location=[41.977049, -87.768738],zoom_start=11))\n",
    "\n",
    "for index,row2 in spray2013.iterrows():\n",
    "    folium.CircleMarker([row2['Latitude'], row2['Longitude']],\n",
    "                       radius=3,\n",
    "                        fill = True,\n",
    "                        color = \"#b22323\", \n",
    "                        fill_color=\"#b22323\", # divvy color\n",
    "                       ).add_to(map2013)\n",
    "\n",
    "map2013.save('2013 Spray.html')"
   ]
  },
  {
   "cell_type": "markdown",
   "metadata": {},
   "source": [
    "### All Spraying Locations (2011 & 2013), clustered together"
   ]
  },
  {
   "cell_type": "code",
   "execution_count": 26,
   "metadata": {
    "ExecuteTime": {
     "end_time": "2017-11-12T15:20:48.452548Z",
     "start_time": "2017-11-12T15:19:05.207885Z"
    },
    "collapsed": true
   },
   "outputs": [],
   "source": [
    "masterspraycluster = (folium.Map(location=[41.843667, -87.803933],zoom_start=10))\n",
    "\n",
    "marker_cluster = MarkerCluster().add_to(masterspraycluster)\n",
    "\n",
    "for index,row in spray2011.iterrows():\n",
    "    folium.CircleMarker([row['Latitude'], row['Longitude']], \n",
    "                        radius=3,\n",
    "                        fill = True,\n",
    "                        color = \"#38ff55\", \n",
    "                        fill_color=\"#38ff55\").add_to(marker_cluster)\n",
    "                       \n",
    "\n",
    "for index, row2 in spray2013.iterrows():\n",
    "    folium.CircleMarker([row2['Latitude'], row2['Longitude']], \n",
    "                        radius=3,\n",
    "                        fill=True, \n",
    "                        color=\"#ff0000\", \n",
    "                        fill_color= \"#ff0000\").add_to(marker_cluster)\n",
    "\n",
    "masterspraycluster.add_child(folium.LatLngPopup())\n",
    "masterspraycluster.save('Master Spray (with Clusters).html')"
   ]
  },
  {
   "cell_type": "markdown",
   "metadata": {},
   "source": [
    "### All Spraying Locations (2011 & 2013), Raw"
   ]
  },
  {
   "cell_type": "code",
   "execution_count": 28,
   "metadata": {
    "ExecuteTime": {
     "end_time": "2017-11-12T15:21:54.808898Z",
     "start_time": "2017-11-12T15:21:54.801405Z"
    },
    "collapsed": true
   },
   "outputs": [],
   "source": [
    "masterspray = (folium.Map(location=[41.843667, -87.803933],zoom_start=10))\n",
    "\n",
    "for index,row in spray2011.iterrows():\n",
    "    folium.CircleMarker([row['Latitude'], row['Longitude']], \n",
    "                        radius=3,\n",
    "                        fill = True,\n",
    "                        color = \"#38ff55\", \n",
    "                        fill_color=\"#38ff55\").add_to(masterspray)\n",
    "                       \n",
    "\n",
    "for index, row2 in spray2013.iterrows():\n",
    "    folium.CircleMarker([row2['Latitude'], row2['Longitude']], \n",
    "                        radius=3,\n",
    "                        fill=True, \n",
    "                        color=\"#ff0000\", \n",
    "                        fill_color= \"#ff0000\").add_to(masterspray)\n",
    "\n",
    "masterspray.add_child(folium.LatLngPopup())\n",
    "masterspray.save('Master Spray.html')"
   ]
  },
  {
   "cell_type": "code",
   "execution_count": null,
   "metadata": {
    "ExecuteTime": {
     "end_time": "2017-11-12T15:21:49.173462Z",
     "start_time": "2017-11-12T15:17:14.042Z"
    },
    "collapsed": true
   },
   "outputs": [],
   "source": [
    "# markerspray = (folium.Map(location=[41.843667, -87.803933],zoom_start=10))\n",
    "\n",
    "# locationlist2011 = spray2011[[\"Latitude\",\"Longitude\"]].values.tolist()\n",
    "# locationlist2013 = spray2013[[\"Latitude\",\"Longitude\"]].values.tolist()\n",
    "# icon2011 = folium.Icon(color='red',icon='ok-sign')\n",
    "# icon2013 = folium.Icon(color='green',icon='ok-sign')\n",
    "\n",
    "# for index,row in spray2011.iterrows():\n",
    "#     folium.Marker([row['Latitude'], row['Longitude']], icon=icon2011,\n",
    "#                   popup=str(row['Date'], \n",
    "#                   )).add_to(markerspray)\n",
    "                       \n",
    "\n",
    "# for index, row2 in spray2013.iterrows():\n",
    "#     folium.Marker([row2['Latitude'], row2['Longitude']], icon=icon2013, \n",
    "#                   popup=str(row2['Date'] \n",
    "#                   )).add_to(markerspray)\n",
    "    \n",
    "# markerspray.save('Marker Spray.html')\n",
    "   \n",
    "\n",
    "    \n",
    "#This Currently does not work.  I'll try and figure it out."
   ]
  },
  {
   "cell_type": "code",
   "execution_count": null,
   "metadata": {
    "collapsed": true
   },
   "outputs": [],
   "source": []
  },
  {
   "cell_type": "markdown",
   "metadata": {},
   "source": [
    "# Merging Train/Test Data and Weather Data"
   ]
  },
  {
   "cell_type": "code",
   "execution_count": 29,
   "metadata": {
    "ExecuteTime": {
     "end_time": "2017-11-12T15:23:28.130714Z",
     "start_time": "2017-11-12T15:23:28.114648Z"
    },
    "collapsed": true
   },
   "outputs": [],
   "source": [
    "day_light_hours = weather_consolidated[['Sunset','Sunrise']].reset_index()\n",
    "weather_consolidated.drop(['Sunset','Sunrise','Station'], axis = 1, inplace=True)"
   ]
  },
  {
   "cell_type": "code",
   "execution_count": 30,
   "metadata": {
    "ExecuteTime": {
     "end_time": "2017-11-12T15:23:28.511364Z",
     "start_time": "2017-11-12T15:23:28.450251Z"
    },
    "collapsed": true
   },
   "outputs": [],
   "source": [
    "train = train.merge(day_light_hours, on='Date')\n",
    "test = test.merge(day_light_hours, on='Date')"
   ]
  },
  {
   "cell_type": "code",
   "execution_count": 31,
   "metadata": {
    "ExecuteTime": {
     "end_time": "2017-11-12T15:23:29.155345Z",
     "start_time": "2017-11-12T15:23:29.140224Z"
    },
    "collapsed": true
   },
   "outputs": [],
   "source": [
    "two_week_rolling_average = weather_consolidated.rolling(window=14, min_periods=1).mean().reset_index()\n",
    "# one_week_rolling_average = weather_consolidated.rolling(window=7, min_periods=1).mean().reset_index()"
   ]
  },
  {
   "cell_type": "code",
   "execution_count": 32,
   "metadata": {
    "ExecuteTime": {
     "end_time": "2017-11-12T15:23:30.414347Z",
     "start_time": "2017-11-12T15:23:30.378193Z"
    },
    "collapsed": true
   },
   "outputs": [],
   "source": [
    "train = train.merge(two_week_rolling_average, on='Date')\n",
    "test = train.merge(two_week_rolling_average, on='Date')\n",
    "# train = train.merge(one_week_rolling_average, on='Date', suffixes = ('_2wks','_1wk'))\n",
    "# test = train.merge(one_week_rolling_average, on='Date', suffixes = ('_2wks','_1wk'))"
   ]
  },
  {
   "cell_type": "code",
   "execution_count": 34,
   "metadata": {
    "ExecuteTime": {
     "end_time": "2017-11-12T15:23:37.041283Z",
     "start_time": "2017-11-12T15:23:37.017257Z"
    },
    "collapsed": true
   },
   "outputs": [],
   "source": [
    "train['HoursSunlight'] = train['Sunset'] - train['Sunrise']\n",
    "test['HoursSunlight'] = test['Sunset'] - test['Sunrise']\n",
    "train.drop(['Sunrise', 'Sunset'], axis=1, inplace=True)\n",
    "test.drop(['Sunrise', 'Sunset'], axis=1, inplace=True)"
   ]
  },
  {
   "cell_type": "markdown",
   "metadata": {},
   "source": [
    "# Merging Train/Test Data with Spray Data"
   ]
  },
  {
   "cell_type": "code",
   "execution_count": 35,
   "metadata": {
    "ExecuteTime": {
     "end_time": "2017-11-12T15:23:39.064607Z",
     "start_time": "2017-11-12T15:23:39.028555Z"
    }
   },
   "outputs": [
    {
     "data": {
      "text/html": [
       "<div>\n",
       "<style>\n",
       "    .dataframe thead tr:only-child th {\n",
       "        text-align: right;\n",
       "    }\n",
       "\n",
       "    .dataframe thead th {\n",
       "        text-align: left;\n",
       "    }\n",
       "\n",
       "    .dataframe tbody tr th {\n",
       "        vertical-align: top;\n",
       "    }\n",
       "</style>\n",
       "<table border=\"1\" class=\"dataframe\">\n",
       "  <thead>\n",
       "    <tr style=\"text-align: right;\">\n",
       "      <th></th>\n",
       "      <th>Date</th>\n",
       "      <th>Latitude</th>\n",
       "      <th>Longitude</th>\n",
       "      <th>CombinedLoc</th>\n",
       "    </tr>\n",
       "  </thead>\n",
       "  <tbody>\n",
       "    <tr>\n",
       "      <th>0</th>\n",
       "      <td>2011-08-29</td>\n",
       "      <td>42.391623</td>\n",
       "      <td>-88.089163</td>\n",
       "      <td>42.3916233333, -88.0891633333</td>\n",
       "    </tr>\n",
       "    <tr>\n",
       "      <th>1</th>\n",
       "      <td>2011-08-29</td>\n",
       "      <td>42.391348</td>\n",
       "      <td>-88.089163</td>\n",
       "      <td>42.3913483333, -88.0891633333</td>\n",
       "    </tr>\n",
       "    <tr>\n",
       "      <th>2</th>\n",
       "      <td>2011-08-29</td>\n",
       "      <td>42.391022</td>\n",
       "      <td>-88.089157</td>\n",
       "      <td>42.3910216667, -88.0891566667</td>\n",
       "    </tr>\n",
       "    <tr>\n",
       "      <th>3</th>\n",
       "      <td>2011-08-29</td>\n",
       "      <td>42.390637</td>\n",
       "      <td>-88.089158</td>\n",
       "      <td>42.3906366667, -88.0891583333</td>\n",
       "    </tr>\n",
       "    <tr>\n",
       "      <th>4</th>\n",
       "      <td>2011-08-29</td>\n",
       "      <td>42.390410</td>\n",
       "      <td>-88.088858</td>\n",
       "      <td>42.39041, -88.0888583333</td>\n",
       "    </tr>\n",
       "  </tbody>\n",
       "</table>\n",
       "</div>"
      ],
      "text/plain": [
       "        Date   Latitude  Longitude                    CombinedLoc\n",
       "0 2011-08-29  42.391623 -88.089163  42.3916233333, -88.0891633333\n",
       "1 2011-08-29  42.391348 -88.089163  42.3913483333, -88.0891633333\n",
       "2 2011-08-29  42.391022 -88.089157  42.3910216667, -88.0891566667\n",
       "3 2011-08-29  42.390637 -88.089158  42.3906366667, -88.0891583333\n",
       "4 2011-08-29  42.390410 -88.088858       42.39041, -88.0888583333"
      ]
     },
     "execution_count": 35,
     "metadata": {},
     "output_type": "execute_result"
    }
   ],
   "source": [
    "spray.head()"
   ]
  },
  {
   "cell_type": "code",
   "execution_count": 36,
   "metadata": {
    "ExecuteTime": {
     "end_time": "2017-11-12T15:23:40.630644Z",
     "start_time": "2017-11-12T15:23:40.598629Z"
    }
   },
   "outputs": [
    {
     "data": {
      "text/html": [
       "<div>\n",
       "<style>\n",
       "    .dataframe thead tr:only-child th {\n",
       "        text-align: right;\n",
       "    }\n",
       "\n",
       "    .dataframe thead th {\n",
       "        text-align: left;\n",
       "    }\n",
       "\n",
       "    .dataframe tbody tr th {\n",
       "        vertical-align: top;\n",
       "    }\n",
       "</style>\n",
       "<table border=\"1\" class=\"dataframe\">\n",
       "  <thead>\n",
       "    <tr style=\"text-align: right;\">\n",
       "      <th></th>\n",
       "      <th>Date</th>\n",
       "      <th>Species</th>\n",
       "      <th>Trap</th>\n",
       "      <th>Latitude</th>\n",
       "      <th>Longitude</th>\n",
       "      <th>NumMosquitos</th>\n",
       "      <th>WnvPresent</th>\n",
       "      <th>Tmax</th>\n",
       "      <th>Tmin</th>\n",
       "      <th>Tavg</th>\n",
       "      <th>Depart</th>\n",
       "      <th>DewPoint</th>\n",
       "      <th>WetBulb</th>\n",
       "      <th>PrecipTotal</th>\n",
       "      <th>HoursSunlight</th>\n",
       "    </tr>\n",
       "  </thead>\n",
       "  <tbody>\n",
       "    <tr>\n",
       "      <th>0</th>\n",
       "      <td>2007-05-29</td>\n",
       "      <td>CULEX PIPIENS/RESTUANS</td>\n",
       "      <td>T002</td>\n",
       "      <td>41.954690</td>\n",
       "      <td>-87.800991</td>\n",
       "      <td>1</td>\n",
       "      <td>0</td>\n",
       "      <td>76.107143</td>\n",
       "      <td>52.75</td>\n",
       "      <td>64.678571</td>\n",
       "      <td>2.928571</td>\n",
       "      <td>45.357143</td>\n",
       "      <td>54.357143</td>\n",
       "      <td>0.069286</td>\n",
       "      <td>1496.0</td>\n",
       "    </tr>\n",
       "    <tr>\n",
       "      <th>1</th>\n",
       "      <td>2007-05-29</td>\n",
       "      <td>CULEX RESTUANS</td>\n",
       "      <td>T002</td>\n",
       "      <td>41.954690</td>\n",
       "      <td>-87.800991</td>\n",
       "      <td>1</td>\n",
       "      <td>0</td>\n",
       "      <td>76.107143</td>\n",
       "      <td>52.75</td>\n",
       "      <td>64.678571</td>\n",
       "      <td>2.928571</td>\n",
       "      <td>45.357143</td>\n",
       "      <td>54.357143</td>\n",
       "      <td>0.069286</td>\n",
       "      <td>1496.0</td>\n",
       "    </tr>\n",
       "    <tr>\n",
       "      <th>2</th>\n",
       "      <td>2007-05-29</td>\n",
       "      <td>CULEX RESTUANS</td>\n",
       "      <td>T007</td>\n",
       "      <td>41.994991</td>\n",
       "      <td>-87.769279</td>\n",
       "      <td>1</td>\n",
       "      <td>0</td>\n",
       "      <td>76.107143</td>\n",
       "      <td>52.75</td>\n",
       "      <td>64.678571</td>\n",
       "      <td>2.928571</td>\n",
       "      <td>45.357143</td>\n",
       "      <td>54.357143</td>\n",
       "      <td>0.069286</td>\n",
       "      <td>1496.0</td>\n",
       "    </tr>\n",
       "    <tr>\n",
       "      <th>3</th>\n",
       "      <td>2007-05-29</td>\n",
       "      <td>CULEX PIPIENS/RESTUANS</td>\n",
       "      <td>T015</td>\n",
       "      <td>41.974089</td>\n",
       "      <td>-87.824812</td>\n",
       "      <td>1</td>\n",
       "      <td>0</td>\n",
       "      <td>76.107143</td>\n",
       "      <td>52.75</td>\n",
       "      <td>64.678571</td>\n",
       "      <td>2.928571</td>\n",
       "      <td>45.357143</td>\n",
       "      <td>54.357143</td>\n",
       "      <td>0.069286</td>\n",
       "      <td>1496.0</td>\n",
       "    </tr>\n",
       "    <tr>\n",
       "      <th>4</th>\n",
       "      <td>2007-05-29</td>\n",
       "      <td>CULEX RESTUANS</td>\n",
       "      <td>T015</td>\n",
       "      <td>41.974089</td>\n",
       "      <td>-87.824812</td>\n",
       "      <td>4</td>\n",
       "      <td>0</td>\n",
       "      <td>76.107143</td>\n",
       "      <td>52.75</td>\n",
       "      <td>64.678571</td>\n",
       "      <td>2.928571</td>\n",
       "      <td>45.357143</td>\n",
       "      <td>54.357143</td>\n",
       "      <td>0.069286</td>\n",
       "      <td>1496.0</td>\n",
       "    </tr>\n",
       "  </tbody>\n",
       "</table>\n",
       "</div>"
      ],
      "text/plain": [
       "        Date                 Species  Trap   Latitude  Longitude  \\\n",
       "0 2007-05-29  CULEX PIPIENS/RESTUANS  T002  41.954690 -87.800991   \n",
       "1 2007-05-29          CULEX RESTUANS  T002  41.954690 -87.800991   \n",
       "2 2007-05-29          CULEX RESTUANS  T007  41.994991 -87.769279   \n",
       "3 2007-05-29  CULEX PIPIENS/RESTUANS  T015  41.974089 -87.824812   \n",
       "4 2007-05-29          CULEX RESTUANS  T015  41.974089 -87.824812   \n",
       "\n",
       "   NumMosquitos  WnvPresent       Tmax   Tmin       Tavg    Depart   DewPoint  \\\n",
       "0             1           0  76.107143  52.75  64.678571  2.928571  45.357143   \n",
       "1             1           0  76.107143  52.75  64.678571  2.928571  45.357143   \n",
       "2             1           0  76.107143  52.75  64.678571  2.928571  45.357143   \n",
       "3             1           0  76.107143  52.75  64.678571  2.928571  45.357143   \n",
       "4             4           0  76.107143  52.75  64.678571  2.928571  45.357143   \n",
       "\n",
       "     WetBulb  PrecipTotal  HoursSunlight  \n",
       "0  54.357143     0.069286         1496.0  \n",
       "1  54.357143     0.069286         1496.0  \n",
       "2  54.357143     0.069286         1496.0  \n",
       "3  54.357143     0.069286         1496.0  \n",
       "4  54.357143     0.069286         1496.0  "
      ]
     },
     "execution_count": 36,
     "metadata": {},
     "output_type": "execute_result"
    }
   ],
   "source": [
    "train.head()"
   ]
  },
  {
   "cell_type": "code",
   "execution_count": 37,
   "metadata": {
    "ExecuteTime": {
     "end_time": "2017-11-12T15:23:42.016928Z",
     "start_time": "2017-11-12T15:23:41.988923Z"
    },
    "collapsed": true
   },
   "outputs": [],
   "source": [
    "def recent_spray(row, lat_long_dist, days):\n",
    "    '''Function to determine if, for a given row in training or test set, there has been a spray within\n",
    "    a certain lat_long_dist and specified number of days'''\n",
    "    # Using difference in latitude and longitude as a metric of distance is not quite right  given\n",
    "    # how map projections work but in the interest of time we may want to stick with this. We can circle back later.\n",
    "    \n",
    "    # define our spray conditionals\n",
    "    conDate = spray['Date'] < row['Date']\n",
    "    conRange = spray['Date'] > (row['Date'] - datetime.timedelta(days=days))\n",
    "    conLat = np.abs(row['Latitude'] - spray['Latitude']) < lat_long_dist\n",
    "    conLon = np.abs(row['Longitude'] - spray['Longitude']) < lat_long_dist\n",
    "    conditions = conDate & conRange & conLat & conLon\n",
    "    \n",
    "    recent_sprays = spray[conditions]\n",
    "    # Returns the number of rows in the spray dataframe where each condition is true for the row provided\n",
    "        \n",
    "    # test prints to see what each condition passed in the first recent_sprays definition\n",
    "    #print(sum(row['Date'] > spray['Date']))\n",
    "    #print(str(row['Date'] - spray['Date'] < datetime.timedelta(days=days)))\n",
    "    #print(str(np.abs(row['Latitude'] - spray['Latitude'])))\n",
    "    #print(str(np.abs(row['Longitude'] - spray['Longitude'])))\n",
    "    #return recent_sprays\n",
    "    \n",
    "    return recent_sprays.shape[0]"
   ]
  },
  {
   "cell_type": "code",
   "execution_count": 46,
   "metadata": {
    "ExecuteTime": {
     "end_time": "2017-11-12T15:26:02.781872Z",
     "start_time": "2017-11-12T15:25:59.283770Z"
    }
   },
   "outputs": [
    {
     "data": {
      "text/plain": [
       "0"
      ]
     },
     "execution_count": 46,
     "metadata": {},
     "output_type": "execute_result"
    }
   ],
   "source": [
    "sprays_sum = []\n",
    "for i in range(1000):\n",
    "    sprays_sum.append(recent_spray(train.iloc[i], 1, 100))\n",
    "sum(sprays_sum)"
   ]
  },
  {
   "cell_type": "code",
   "execution_count": 40,
   "metadata": {
    "ExecuteTime": {
     "end_time": "2017-11-12T15:24:16.189062Z",
     "start_time": "2017-11-12T15:24:16.177050Z"
    }
   },
   "outputs": [
    {
     "data": {
      "text/plain": [
       "Date           datetime64[ns]\n",
       "Latitude              float64\n",
       "Longitude             float64\n",
       "CombinedLoc            object\n",
       "dtype: object"
      ]
     },
     "execution_count": 40,
     "metadata": {},
     "output_type": "execute_result"
    }
   ],
   "source": [
    "spray.dtypes"
   ]
  }
 ],
 "metadata": {
  "kernelspec": {
   "display_name": "Python 3",
   "language": "python",
   "name": "python3"
  },
  "language_info": {
   "codemirror_mode": {
    "name": "ipython",
    "version": 3
   },
   "file_extension": ".py",
   "mimetype": "text/x-python",
   "name": "python",
   "nbconvert_exporter": "python",
   "pygments_lexer": "ipython3",
   "version": "3.6.3"
  },
  "toc": {
   "nav_menu": {},
   "number_sections": true,
   "sideBar": true,
   "skip_h1_title": false,
   "toc_cell": false,
   "toc_position": {},
   "toc_section_display": "block",
   "toc_window_display": false
  },
  "varInspector": {
   "cols": {
    "lenName": 16,
    "lenType": 16,
    "lenVar": 40
   },
   "kernels_config": {
    "python": {
     "delete_cmd_postfix": "",
     "delete_cmd_prefix": "del ",
     "library": "var_list.py",
     "varRefreshCmd": "print(var_dic_list())"
    },
    "r": {
     "delete_cmd_postfix": ") ",
     "delete_cmd_prefix": "rm(",
     "library": "var_list.r",
     "varRefreshCmd": "cat(var_dic_list()) "
    }
   },
   "types_to_exclude": [
    "module",
    "function",
    "builtin_function_or_method",
    "instance",
    "_Feature"
   ],
   "window_display": false
  }
 },
 "nbformat": 4,
 "nbformat_minor": 2
}
