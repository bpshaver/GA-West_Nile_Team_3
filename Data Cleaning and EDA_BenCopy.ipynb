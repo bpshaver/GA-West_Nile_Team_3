{
 "cells": [
  {
   "cell_type": "markdown",
   "metadata": {},
   "source": [
    "# Import Statements"
   ]
  },
  {
   "cell_type": "code",
   "execution_count": 1,
   "metadata": {
    "ExecuteTime": {
     "end_time": "2017-11-14T20:04:56.024416Z",
     "start_time": "2017-11-14T20:04:53.214370Z"
    }
   },
   "outputs": [],
   "source": [
    "import pandas as pd\n",
    "import numpy as np\n",
    "import matplotlib.pyplot as plt\n",
    "import datetime\n",
    "%matplotlib inline"
   ]
  },
  {
   "cell_type": "code",
   "execution_count": 2,
   "metadata": {
    "ExecuteTime": {
     "end_time": "2017-11-14T20:04:57.293063Z",
     "start_time": "2017-11-14T20:04:56.024416Z"
    }
   },
   "outputs": [],
   "source": [
    "# Mapping packages:\n",
    "import folium"
   ]
  },
  {
   "cell_type": "code",
   "execution_count": 3,
   "metadata": {
    "ExecuteTime": {
     "end_time": "2017-11-14T20:04:57.301067Z",
     "start_time": "2017-11-14T20:04:57.293063Z"
    }
   },
   "outputs": [],
   "source": [
    "# import geopandas as gpd"
   ]
  },
  {
   "cell_type": "markdown",
   "metadata": {},
   "source": [
    "To install geopandas and folium:\n",
    "\n",
    "`conda install -c conda-forge geopandas`\n",
    "\n",
    "`conda install -c conda-forge folium `\n",
    "\n",
    "then:\n",
    "\n",
    "`jupyter nbextension enable vega --py --sys-prefix`\n",
    "\n",
    "to enable the necessary notebook extension to use Folium."
   ]
  },
  {
   "cell_type": "markdown",
   "metadata": {},
   "source": [
    "# Importing Data"
   ]
  },
  {
   "cell_type": "code",
   "execution_count": 4,
   "metadata": {
    "ExecuteTime": {
     "end_time": "2017-11-14T20:04:58.577729Z",
     "start_time": "2017-11-14T20:04:57.301067Z"
    }
   },
   "outputs": [],
   "source": [
    "# Don't edit raw dataframes after they have been imported:\n",
    "train_raw = pd.read_csv('assets/train.csv')\n",
    "test_raw = pd.read_csv('assets/test.csv', index_col=0)\n",
    "weather_raw = pd.read_csv('assets/weather.csv')\n",
    "spray_raw = pd.read_csv('assets/spray.csv')\n",
    "\n",
    "# These can be the cleaned versions:\n",
    "train = train_raw.copy().drop(['Address','Block','Street','AddressNumberAndStreet','AddressAccuracy'], axis=1)\n",
    "test = test_raw.copy().drop(['Address','Block','Street','AddressNumberAndStreet', 'AddressAccuracy'], axis=1)\n",
    "# If we're using latitude and longitude we can drop out the address info.\n",
    "weather = weather_raw.copy()\n",
    "spray = spray_raw.copy()"
   ]
  },
  {
   "cell_type": "markdown",
   "metadata": {},
   "source": [
    "# Cleaning Data and EDA, train and test"
   ]
  },
  {
   "cell_type": "markdown",
   "metadata": {},
   "source": [
    "## Simple Map showing the Weather Stations (airports)"
   ]
  },
  {
   "cell_type": "code",
   "execution_count": 5,
   "metadata": {
    "ExecuteTime": {
     "end_time": "2017-11-14T20:04:59.105403Z",
     "start_time": "2017-11-14T20:04:58.582237Z"
    }
   },
   "outputs": [
    {
     "data": {
      "text/html": [
       "<div style=\"width:100%;\"><div style=\"position:relative;width:100%;height:0;padding-bottom:60%;\"><iframe src=\"data:text/html;charset=utf-8;base64,PCFET0NUWVBFIGh0bWw+CjxoZWFkPiAgICAKICAgIDxtZXRhIGh0dHAtZXF1aXY9ImNvbnRlbnQtdHlwZSIgY29udGVudD0idGV4dC9odG1sOyBjaGFyc2V0PVVURi04IiAvPgogICAgPHNjcmlwdD5MX1BSRUZFUl9DQU5WQVMgPSBmYWxzZTsgTF9OT19UT1VDSCA9IGZhbHNlOyBMX0RJU0FCTEVfM0QgPSBmYWxzZTs8L3NjcmlwdD4KICAgIDxzY3JpcHQgc3JjPSJodHRwczovL2Nkbi5qc2RlbGl2ci5uZXQvbnBtL2xlYWZsZXRAMS4yLjAvZGlzdC9sZWFmbGV0LmpzIj48L3NjcmlwdD4KICAgIDxzY3JpcHQgc3JjPSJodHRwczovL2FqYXguZ29vZ2xlYXBpcy5jb20vYWpheC9saWJzL2pxdWVyeS8xLjExLjEvanF1ZXJ5Lm1pbi5qcyI+PC9zY3JpcHQ+CiAgICA8c2NyaXB0IHNyYz0iaHR0cHM6Ly9tYXhjZG4uYm9vdHN0cmFwY2RuLmNvbS9ib290c3RyYXAvMy4yLjAvanMvYm9vdHN0cmFwLm1pbi5qcyI+PC9zY3JpcHQ+CiAgICA8c2NyaXB0IHNyYz0iaHR0cHM6Ly9jZG5qcy5jbG91ZGZsYXJlLmNvbS9hamF4L2xpYnMvTGVhZmxldC5hd2Vzb21lLW1hcmtlcnMvMi4wLjIvbGVhZmxldC5hd2Vzb21lLW1hcmtlcnMuanMiPjwvc2NyaXB0PgogICAgPGxpbmsgcmVsPSJzdHlsZXNoZWV0IiBocmVmPSJodHRwczovL2Nkbi5qc2RlbGl2ci5uZXQvbnBtL2xlYWZsZXRAMS4yLjAvZGlzdC9sZWFmbGV0LmNzcyIgLz4KICAgIDxsaW5rIHJlbD0ic3R5bGVzaGVldCIgaHJlZj0iaHR0cHM6Ly9tYXhjZG4uYm9vdHN0cmFwY2RuLmNvbS9ib290c3RyYXAvMy4yLjAvY3NzL2Jvb3RzdHJhcC5taW4uY3NzIiAvPgogICAgPGxpbmsgcmVsPSJzdHlsZXNoZWV0IiBocmVmPSJodHRwczovL21heGNkbi5ib290c3RyYXBjZG4uY29tL2Jvb3RzdHJhcC8zLjIuMC9jc3MvYm9vdHN0cmFwLXRoZW1lLm1pbi5jc3MiIC8+CiAgICA8bGluayByZWw9InN0eWxlc2hlZXQiIGhyZWY9Imh0dHBzOi8vbWF4Y2RuLmJvb3RzdHJhcGNkbi5jb20vZm9udC1hd2Vzb21lLzQuNi4zL2Nzcy9mb250LWF3ZXNvbWUubWluLmNzcyIgLz4KICAgIDxsaW5rIHJlbD0ic3R5bGVzaGVldCIgaHJlZj0iaHR0cHM6Ly9jZG5qcy5jbG91ZGZsYXJlLmNvbS9hamF4L2xpYnMvTGVhZmxldC5hd2Vzb21lLW1hcmtlcnMvMi4wLjIvbGVhZmxldC5hd2Vzb21lLW1hcmtlcnMuY3NzIiAvPgogICAgPGxpbmsgcmVsPSJzdHlsZXNoZWV0IiBocmVmPSJodHRwczovL3Jhd2dpdC5jb20vcHl0aG9uLXZpc3VhbGl6YXRpb24vZm9saXVtL21hc3Rlci9mb2xpdW0vdGVtcGxhdGVzL2xlYWZsZXQuYXdlc29tZS5yb3RhdGUuY3NzIiAvPgogICAgPHN0eWxlPmh0bWwsIGJvZHkge3dpZHRoOiAxMDAlO2hlaWdodDogMTAwJTttYXJnaW46IDA7cGFkZGluZzogMDt9PC9zdHlsZT4KICAgIDxzdHlsZT4jbWFwIHtwb3NpdGlvbjphYnNvbHV0ZTt0b3A6MDtib3R0b206MDtyaWdodDowO2xlZnQ6MDt9PC9zdHlsZT4KICAgIAogICAgICAgICAgICA8c3R5bGU+ICNtYXBfYWEyZmExYWFlZmQ3NDM3ZDg0ODFjYjc0MDU0NzIxYjIgewogICAgICAgICAgICAgICAgcG9zaXRpb24gOiByZWxhdGl2ZTsKICAgICAgICAgICAgICAgIHdpZHRoIDogMTAwLjAlOwogICAgICAgICAgICAgICAgaGVpZ2h0OiAxMDAuMCU7CiAgICAgICAgICAgICAgICBsZWZ0OiAwLjAlOwogICAgICAgICAgICAgICAgdG9wOiAwLjAlOwogICAgICAgICAgICAgICAgfQogICAgICAgICAgICA8L3N0eWxlPgogICAgICAgIAo8L2hlYWQ+Cjxib2R5PiAgICAKICAgIAogICAgICAgICAgICA8ZGl2IGNsYXNzPSJmb2xpdW0tbWFwIiBpZD0ibWFwX2FhMmZhMWFhZWZkNzQzN2Q4NDgxY2I3NDA1NDcyMWIyIiA+PC9kaXY+CiAgICAgICAgCjwvYm9keT4KPHNjcmlwdD4gICAgCiAgICAKCiAgICAgICAgICAgIAogICAgICAgICAgICAgICAgdmFyIGJvdW5kcyA9IG51bGw7CiAgICAgICAgICAgIAoKICAgICAgICAgICAgdmFyIG1hcF9hYTJmYTFhYWVmZDc0MzdkODQ4MWNiNzQwNTQ3MjFiMiA9IEwubWFwKAogICAgICAgICAgICAgICAgICAgICAgICAgICAgICAgICAgJ21hcF9hYTJmYTFhYWVmZDc0MzdkODQ4MWNiNzQwNTQ3MjFiMicsCiAgICAgICAgICAgICAgICAgICAgICAgICAgICAgICAgICB7Y2VudGVyOiBbNDEuODgzODQ0LC04Ny42MzIxNjJdLAogICAgICAgICAgICAgICAgICAgICAgICAgICAgICAgICAgem9vbTogMTAsCiAgICAgICAgICAgICAgICAgICAgICAgICAgICAgICAgICBtYXhCb3VuZHM6IGJvdW5kcywKICAgICAgICAgICAgICAgICAgICAgICAgICAgICAgICAgIGxheWVyczogW10sCiAgICAgICAgICAgICAgICAgICAgICAgICAgICAgICAgICB3b3JsZENvcHlKdW1wOiBmYWxzZSwKICAgICAgICAgICAgICAgICAgICAgICAgICAgICAgICAgIGNyczogTC5DUlMuRVBTRzM4NTcKICAgICAgICAgICAgICAgICAgICAgICAgICAgICAgICAgfSk7CiAgICAgICAgICAgIAogICAgICAgIAogICAgCiAgICAgICAgICAgIHZhciB0aWxlX2xheWVyX2YwOWY4NWI4YTgwOTRjYTViMTlmNzZhMDc0Njk5NmI0ID0gTC50aWxlTGF5ZXIoCiAgICAgICAgICAgICAgICAnaHR0cHM6Ly97c30udGlsZS5vcGVuc3RyZWV0bWFwLm9yZy97en0ve3h9L3t5fS5wbmcnLAogICAgICAgICAgICAgICAgewogICJhdHRyaWJ1dGlvbiI6IG51bGwsCiAgImRldGVjdFJldGluYSI6IGZhbHNlLAogICJtYXhab29tIjogMTAsCiAgIm1pblpvb20iOiAxMCwKICAibm9XcmFwIjogZmFsc2UsCiAgInN1YmRvbWFpbnMiOiAiYWJjIgp9CiAgICAgICAgICAgICAgICApLmFkZFRvKG1hcF9hYTJmYTFhYWVmZDc0MzdkODQ4MWNiNzQwNTQ3MjFiMik7CiAgICAgICAgCiAgICAKCiAgICAgICAgICAgIHZhciBtYXJrZXJfNzgzOGRmMjE1OWY4NGYyNmI5NDM2M2E1NWE1ZjMxMjYgPSBMLm1hcmtlcigKICAgICAgICAgICAgICAgIFs0MS45NzMzMTIsLTg3LjkxMDU3Nl0sCiAgICAgICAgICAgICAgICB7CiAgICAgICAgICAgICAgICAgICAgaWNvbjogbmV3IEwuSWNvbi5EZWZhdWx0KCkKICAgICAgICAgICAgICAgICAgICB9CiAgICAgICAgICAgICAgICApCiAgICAgICAgICAgICAgICAuYWRkVG8obWFwX2FhMmZhMWFhZWZkNzQzN2Q4NDgxY2I3NDA1NDcyMWIyKTsKICAgICAgICAgICAgCiAgICAKCiAgICAgICAgICAgICAgICB2YXIgaWNvbl8zOTM5NWY0OWY1MDE0MDg3OTgzMTZjMjI2ZTZiZTBiZiA9IEwuQXdlc29tZU1hcmtlcnMuaWNvbih7CiAgICAgICAgICAgICAgICAgICAgaWNvbjogJ3BsYW5lJywKICAgICAgICAgICAgICAgICAgICBpY29uQ29sb3I6ICd3aGl0ZScsCiAgICAgICAgICAgICAgICAgICAgbWFya2VyQ29sb3I6ICdyZWQnLAogICAgICAgICAgICAgICAgICAgIHByZWZpeDogJ2dseXBoaWNvbicsCiAgICAgICAgICAgICAgICAgICAgZXh0cmFDbGFzc2VzOiAnZmEtcm90YXRlLTAnCiAgICAgICAgICAgICAgICAgICAgfSk7CiAgICAgICAgICAgICAgICBtYXJrZXJfNzgzOGRmMjE1OWY4NGYyNmI5NDM2M2E1NWE1ZjMxMjYuc2V0SWNvbihpY29uXzM5Mzk1ZjQ5ZjUwMTQwODc5ODMxNmMyMjZlNmJlMGJmKTsKICAgICAgICAgICAgCiAgICAKICAgICAgICAgICAgdmFyIHBvcHVwXzY0MmNkYzA2NzJkMjRlYzVhZTg1YTNiM2M2ODMwZmY4ID0gTC5wb3B1cCh7bWF4V2lkdGg6ICczMDAnfSk7CgogICAgICAgICAgICAKICAgICAgICAgICAgICAgIHZhciBodG1sXzg5YzMyNDBkMDRjMTQ3ZGNiOTVhNWI5N2EzODYyNjYxID0gJCgnPGRpdiBpZD0iaHRtbF84OWMzMjQwZDA0YzE0N2RjYjk1YTViOTdhMzg2MjY2MSIgc3R5bGU9IndpZHRoOiAxMDAuMCU7IGhlaWdodDogMTAwLjAlOyI+T0hhcmUgSXRlcm5hdGlvbmFsIEFpcnBvcnQ8L2Rpdj4nKVswXTsKICAgICAgICAgICAgICAgIHBvcHVwXzY0MmNkYzA2NzJkMjRlYzVhZTg1YTNiM2M2ODMwZmY4LnNldENvbnRlbnQoaHRtbF84OWMzMjQwZDA0YzE0N2RjYjk1YTViOTdhMzg2MjY2MSk7CiAgICAgICAgICAgIAoKICAgICAgICAgICAgbWFya2VyXzc4MzhkZjIxNTlmODRmMjZiOTQzNjNhNTVhNWYzMTI2LmJpbmRQb3B1cChwb3B1cF82NDJjZGMwNjcyZDI0ZWM1YWU4NWEzYjNjNjgzMGZmOCk7CgogICAgICAgICAgICAKICAgICAgICAKICAgIAoKICAgICAgICAgICAgdmFyIG1hcmtlcl9hYjhlOGEzOWRmN2I0MTA1YWQwMjI3ZjIyMjhjMTdhNiA9IEwubWFya2VyKAogICAgICAgICAgICAgICAgWzQxLjc4NiwtODcuNzUyXSwKICAgICAgICAgICAgICAgIHsKICAgICAgICAgICAgICAgICAgICBpY29uOiBuZXcgTC5JY29uLkRlZmF1bHQoKQogICAgICAgICAgICAgICAgICAgIH0KICAgICAgICAgICAgICAgICkKICAgICAgICAgICAgICAgIC5hZGRUbyhtYXBfYWEyZmExYWFlZmQ3NDM3ZDg0ODFjYjc0MDU0NzIxYjIpOwogICAgICAgICAgICAKICAgIAoKICAgICAgICAgICAgICAgIHZhciBpY29uX2RlMjcwMzZkYmVmZDQ5ODlhMTM1YTUxNTAxNGFhN2U0ID0gTC5Bd2Vzb21lTWFya2Vycy5pY29uKHsKICAgICAgICAgICAgICAgICAgICBpY29uOiAncGxhbmUnLAogICAgICAgICAgICAgICAgICAgIGljb25Db2xvcjogJ3doaXRlJywKICAgICAgICAgICAgICAgICAgICBtYXJrZXJDb2xvcjogJ2dyZWVuJywKICAgICAgICAgICAgICAgICAgICBwcmVmaXg6ICdnbHlwaGljb24nLAogICAgICAgICAgICAgICAgICAgIGV4dHJhQ2xhc3NlczogJ2ZhLXJvdGF0ZS0wJwogICAgICAgICAgICAgICAgICAgIH0pOwogICAgICAgICAgICAgICAgbWFya2VyX2FiOGU4YTM5ZGY3YjQxMDVhZDAyMjdmMjIyOGMxN2E2LnNldEljb24oaWNvbl9kZTI3MDM2ZGJlZmQ0OTg5YTEzNWE1MTUwMTRhYTdlNCk7CiAgICAgICAgICAgIAogICAgCiAgICAgICAgICAgIHZhciBwb3B1cF84Y2QzNmRjYjE2MmM0MDE5YjkyZWFhMjliNzNlNDNkMCA9IEwucG9wdXAoe21heFdpZHRoOiAnMzAwJ30pOwoKICAgICAgICAgICAgCiAgICAgICAgICAgICAgICB2YXIgaHRtbF8yMDIyMTQwODFiYzQ0YWE2YTNjOTA2MzhhOTQ5N2ZhNCA9ICQoJzxkaXYgaWQ9Imh0bWxfMjAyMjE0MDgxYmM0NGFhNmEzYzkwNjM4YTk0OTdmYTQiIHN0eWxlPSJ3aWR0aDogMTAwLjAlOyBoZWlnaHQ6IDEwMC4wJTsiPk1pZHdheSBJbnRlcm5hdGlvbmFsIEFpcnBvcnQ8L2Rpdj4nKVswXTsKICAgICAgICAgICAgICAgIHBvcHVwXzhjZDM2ZGNiMTYyYzQwMTliOTJlYWEyOWI3M2U0M2QwLnNldENvbnRlbnQoaHRtbF8yMDIyMTQwODFiYzQ0YWE2YTNjOTA2MzhhOTQ5N2ZhNCk7CiAgICAgICAgICAgIAoKICAgICAgICAgICAgbWFya2VyX2FiOGU4YTM5ZGY3YjQxMDVhZDAyMjdmMjIyOGMxN2E2LmJpbmRQb3B1cChwb3B1cF84Y2QzNmRjYjE2MmM0MDE5YjkyZWFhMjliNzNlNDNkMCk7CgogICAgICAgICAgICAKICAgICAgICAKPC9zY3JpcHQ+\" style=\"position:absolute;width:100%;height:100%;left:0;top:0;border:none !important;\" allowfullscreen webkitallowfullscreen mozallowfullscreen></iframe></div></div>"
      ],
      "text/plain": [
       "<folium.folium.Map at 0x21f12d982e8>"
      ]
     },
     "execution_count": 5,
     "metadata": {},
     "output_type": "execute_result"
    }
   ],
   "source": [
    "m = folium.Map(\n",
    "    location=[41.883844, -87.632162],\n",
    "    tiles='openstreetmap',\n",
    "    zoom_start=10,\n",
    "    max_zoom = 10,\n",
    "    min_zoom = 10\n",
    ")\n",
    "\n",
    "#folium.tooltip = 'Click Me!' #WARNING: Tooltips are not in this release; use the dev one if you want it\n",
    "\n",
    "folium.Marker([41.973312, -87.910576], popup='OHare Iternational Airport', icon=folium.Icon(icon='plane', color = 'red')).add_to(m)\n",
    "folium.Marker([41.786, -87.752], popup='Midway International Airport', icon=folium.Icon(icon='plane', color = 'green')).add_to(m)\n",
    "\n",
    "m"
   ]
  },
  {
   "cell_type": "markdown",
   "metadata": {},
   "source": [
    "## Examining the training set:"
   ]
  },
  {
   "cell_type": "code",
   "execution_count": 6,
   "metadata": {
    "ExecuteTime": {
     "end_time": "2017-11-14T20:04:59.188437Z",
     "start_time": "2017-11-14T20:04:59.105403Z"
    }
   },
   "outputs": [
    {
     "data": {
      "text/html": [
       "<div>\n",
       "<style>\n",
       "    .dataframe thead tr:only-child th {\n",
       "        text-align: right;\n",
       "    }\n",
       "\n",
       "    .dataframe thead th {\n",
       "        text-align: left;\n",
       "    }\n",
       "\n",
       "    .dataframe tbody tr th {\n",
       "        vertical-align: top;\n",
       "    }\n",
       "</style>\n",
       "<table border=\"1\" class=\"dataframe\">\n",
       "  <thead>\n",
       "    <tr style=\"text-align: right;\">\n",
       "      <th></th>\n",
       "      <th>Date</th>\n",
       "      <th>Species</th>\n",
       "      <th>Trap</th>\n",
       "      <th>Latitude</th>\n",
       "      <th>Longitude</th>\n",
       "      <th>NumMosquitos</th>\n",
       "      <th>WnvPresent</th>\n",
       "    </tr>\n",
       "  </thead>\n",
       "  <tbody>\n",
       "    <tr>\n",
       "      <th>0</th>\n",
       "      <td>2007-05-29</td>\n",
       "      <td>CULEX PIPIENS/RESTUANS</td>\n",
       "      <td>T002</td>\n",
       "      <td>41.954690</td>\n",
       "      <td>-87.800991</td>\n",
       "      <td>1</td>\n",
       "      <td>0</td>\n",
       "    </tr>\n",
       "    <tr>\n",
       "      <th>1</th>\n",
       "      <td>2007-05-29</td>\n",
       "      <td>CULEX RESTUANS</td>\n",
       "      <td>T002</td>\n",
       "      <td>41.954690</td>\n",
       "      <td>-87.800991</td>\n",
       "      <td>1</td>\n",
       "      <td>0</td>\n",
       "    </tr>\n",
       "    <tr>\n",
       "      <th>2</th>\n",
       "      <td>2007-05-29</td>\n",
       "      <td>CULEX RESTUANS</td>\n",
       "      <td>T007</td>\n",
       "      <td>41.994991</td>\n",
       "      <td>-87.769279</td>\n",
       "      <td>1</td>\n",
       "      <td>0</td>\n",
       "    </tr>\n",
       "    <tr>\n",
       "      <th>3</th>\n",
       "      <td>2007-05-29</td>\n",
       "      <td>CULEX PIPIENS/RESTUANS</td>\n",
       "      <td>T015</td>\n",
       "      <td>41.974089</td>\n",
       "      <td>-87.824812</td>\n",
       "      <td>1</td>\n",
       "      <td>0</td>\n",
       "    </tr>\n",
       "    <tr>\n",
       "      <th>4</th>\n",
       "      <td>2007-05-29</td>\n",
       "      <td>CULEX RESTUANS</td>\n",
       "      <td>T015</td>\n",
       "      <td>41.974089</td>\n",
       "      <td>-87.824812</td>\n",
       "      <td>4</td>\n",
       "      <td>0</td>\n",
       "    </tr>\n",
       "  </tbody>\n",
       "</table>\n",
       "</div>"
      ],
      "text/plain": [
       "        Date                 Species  Trap   Latitude  Longitude  \\\n",
       "0 2007-05-29  CULEX PIPIENS/RESTUANS  T002  41.954690 -87.800991   \n",
       "1 2007-05-29          CULEX RESTUANS  T002  41.954690 -87.800991   \n",
       "2 2007-05-29          CULEX RESTUANS  T007  41.994991 -87.769279   \n",
       "3 2007-05-29  CULEX PIPIENS/RESTUANS  T015  41.974089 -87.824812   \n",
       "4 2007-05-29          CULEX RESTUANS  T015  41.974089 -87.824812   \n",
       "\n",
       "   NumMosquitos  WnvPresent  \n",
       "0             1           0  \n",
       "1             1           0  \n",
       "2             1           0  \n",
       "3             1           0  \n",
       "4             4           0  "
      ]
     },
     "execution_count": 6,
     "metadata": {},
     "output_type": "execute_result"
    }
   ],
   "source": [
    "test['Date'] = pd.to_datetime(test['Date'], format='%Y/%m/%d')\n",
    "train['Date'] = pd.to_datetime(train['Date'], format='%Y/%m/%d')\n",
    "train.head()"
   ]
  },
  {
   "cell_type": "markdown",
   "metadata": {},
   "source": [
    "### Exploring Species Column -- Ben"
   ]
  },
  {
   "cell_type": "code",
   "execution_count": 7,
   "metadata": {
    "ExecuteTime": {
     "end_time": "2017-11-14T20:04:59.205210Z",
     "start_time": "2017-11-14T20:04:59.190443Z"
    }
   },
   "outputs": [
    {
     "data": {
      "text/plain": [
       "CULEX PIPIENS/RESTUANS    4752\n",
       "CULEX RESTUANS            2740\n",
       "CULEX PIPIENS             2699\n",
       "CULEX TERRITANS            222\n",
       "CULEX SALINARIUS            86\n",
       "CULEX TARSALIS               6\n",
       "CULEX ERRATICUS              1\n",
       "Name: Species, dtype: int64"
      ]
     },
     "execution_count": 7,
     "metadata": {},
     "output_type": "execute_result"
    }
   ],
   "source": [
    "train['Species'].value_counts() # WNV is transmitted by all mosquitos in the Culex genus."
   ]
  },
  {
   "cell_type": "markdown",
   "metadata": {},
   "source": [
    "[Which mosquitos spread WNV?](https://wwwnc.cdc.gov/eid/article/7/6/01-0617_article)"
   ]
  },
  {
   "cell_type": "code",
   "execution_count": 8,
   "metadata": {
    "ExecuteTime": {
     "end_time": "2017-11-14T20:04:59.225210Z",
     "start_time": "2017-11-14T20:04:59.205210Z"
    }
   },
   "outputs": [
    {
     "data": {
      "text/html": [
       "<div>\n",
       "<style>\n",
       "    .dataframe thead tr:only-child th {\n",
       "        text-align: right;\n",
       "    }\n",
       "\n",
       "    .dataframe thead th {\n",
       "        text-align: left;\n",
       "    }\n",
       "\n",
       "    .dataframe tbody tr th {\n",
       "        vertical-align: top;\n",
       "    }\n",
       "</style>\n",
       "<table border=\"1\" class=\"dataframe\">\n",
       "  <thead>\n",
       "    <tr style=\"text-align: right;\">\n",
       "      <th></th>\n",
       "      <th>NumMosquitos</th>\n",
       "      <th>WnvPresent</th>\n",
       "    </tr>\n",
       "    <tr>\n",
       "      <th>Species</th>\n",
       "      <th></th>\n",
       "      <th></th>\n",
       "    </tr>\n",
       "  </thead>\n",
       "  <tbody>\n",
       "    <tr>\n",
       "      <th>CULEX ERRATICUS</th>\n",
       "      <td>7.000000</td>\n",
       "      <td>0.000000</td>\n",
       "    </tr>\n",
       "    <tr>\n",
       "      <th>CULEX PIPIENS</th>\n",
       "      <td>16.550945</td>\n",
       "      <td>0.088922</td>\n",
       "    </tr>\n",
       "    <tr>\n",
       "      <th>CULEX PIPIENS/RESTUANS</th>\n",
       "      <td>13.945286</td>\n",
       "      <td>0.055135</td>\n",
       "    </tr>\n",
       "    <tr>\n",
       "      <th>CULEX RESTUANS</th>\n",
       "      <td>8.551460</td>\n",
       "      <td>0.017883</td>\n",
       "    </tr>\n",
       "    <tr>\n",
       "      <th>CULEX SALINARIUS</th>\n",
       "      <td>1.686047</td>\n",
       "      <td>0.000000</td>\n",
       "    </tr>\n",
       "    <tr>\n",
       "      <th>CULEX TARSALIS</th>\n",
       "      <td>1.166667</td>\n",
       "      <td>0.000000</td>\n",
       "    </tr>\n",
       "    <tr>\n",
       "      <th>CULEX TERRITANS</th>\n",
       "      <td>2.297297</td>\n",
       "      <td>0.000000</td>\n",
       "    </tr>\n",
       "  </tbody>\n",
       "</table>\n",
       "</div>"
      ],
      "text/plain": [
       "                        NumMosquitos  WnvPresent\n",
       "Species                                         \n",
       "CULEX ERRATICUS             7.000000    0.000000\n",
       "CULEX PIPIENS              16.550945    0.088922\n",
       "CULEX PIPIENS/RESTUANS     13.945286    0.055135\n",
       "CULEX RESTUANS              8.551460    0.017883\n",
       "CULEX SALINARIUS            1.686047    0.000000\n",
       "CULEX TARSALIS              1.166667    0.000000\n",
       "CULEX TERRITANS             2.297297    0.000000"
      ]
     },
     "execution_count": 8,
     "metadata": {},
     "output_type": "execute_result"
    }
   ],
   "source": [
    "# In the training dataset, only Culex Pipiens and Culex Restuans carried WNV.\n",
    "train.groupby(by ='Species')['NumMosquitos','WnvPresent'].mean()"
   ]
  },
  {
   "cell_type": "markdown",
   "metadata": {},
   "source": [
    "### Exploring the Trap Column"
   ]
  },
  {
   "cell_type": "code",
   "execution_count": 9,
   "metadata": {
    "ExecuteTime": {
     "end_time": "2017-11-14T20:04:59.245210Z",
     "start_time": "2017-11-14T20:04:59.225210Z"
    }
   },
   "outputs": [
    {
     "name": "stdout",
     "output_type": "stream",
     "text": [
      "136 traps in the training set \n",
      "\n",
      "149 traps in the test set\n"
     ]
    }
   ],
   "source": [
    "print(str(train['Trap'].nunique()) + ' traps in the training set \\n')\n",
    "print(str(test['Trap'].nunique()) + ' traps in the test set')"
   ]
  },
  {
   "cell_type": "code",
   "execution_count": 10,
   "metadata": {
    "ExecuteTime": {
     "end_time": "2017-11-14T20:05:00.241784Z",
     "start_time": "2017-11-14T20:04:59.249213Z"
    }
   },
   "outputs": [
    {
     "data": {
      "text/plain": [
       "{'T001',\n",
       " 'T002',\n",
       " 'T002A',\n",
       " 'T002B',\n",
       " 'T003',\n",
       " 'T004',\n",
       " 'T005',\n",
       " 'T006',\n",
       " 'T007',\n",
       " 'T008',\n",
       " 'T009',\n",
       " 'T011',\n",
       " 'T012',\n",
       " 'T013',\n",
       " 'T014',\n",
       " 'T015',\n",
       " 'T016',\n",
       " 'T017',\n",
       " 'T018',\n",
       " 'T019',\n",
       " 'T025',\n",
       " 'T027',\n",
       " 'T028',\n",
       " 'T030',\n",
       " 'T031',\n",
       " 'T033',\n",
       " 'T034',\n",
       " 'T035',\n",
       " 'T036',\n",
       " 'T037',\n",
       " 'T039',\n",
       " 'T040',\n",
       " 'T043',\n",
       " 'T044',\n",
       " 'T045',\n",
       " 'T046',\n",
       " 'T047',\n",
       " 'T048',\n",
       " 'T049',\n",
       " 'T050',\n",
       " 'T051',\n",
       " 'T054',\n",
       " 'T054C',\n",
       " 'T060',\n",
       " 'T061',\n",
       " 'T062',\n",
       " 'T063',\n",
       " 'T065',\n",
       " 'T065A',\n",
       " 'T066',\n",
       " 'T067',\n",
       " 'T069',\n",
       " 'T070',\n",
       " 'T071',\n",
       " 'T072',\n",
       " 'T073',\n",
       " 'T074',\n",
       " 'T075',\n",
       " 'T076',\n",
       " 'T077',\n",
       " 'T078',\n",
       " 'T079',\n",
       " 'T080',\n",
       " 'T081',\n",
       " 'T082',\n",
       " 'T083',\n",
       " 'T084',\n",
       " 'T085',\n",
       " 'T086',\n",
       " 'T088',\n",
       " 'T089',\n",
       " 'T090',\n",
       " 'T090A',\n",
       " 'T090B',\n",
       " 'T090C',\n",
       " 'T091',\n",
       " 'T092',\n",
       " 'T094',\n",
       " 'T094B',\n",
       " 'T095',\n",
       " 'T096',\n",
       " 'T097',\n",
       " 'T099',\n",
       " 'T100',\n",
       " 'T102',\n",
       " 'T103',\n",
       " 'T107',\n",
       " 'T114',\n",
       " 'T115',\n",
       " 'T128',\n",
       " 'T128A',\n",
       " 'T129',\n",
       " 'T135',\n",
       " 'T138',\n",
       " 'T141',\n",
       " 'T142',\n",
       " 'T143',\n",
       " 'T144',\n",
       " 'T145',\n",
       " 'T146',\n",
       " 'T147',\n",
       " 'T148',\n",
       " 'T149',\n",
       " 'T150',\n",
       " 'T151',\n",
       " 'T152',\n",
       " 'T153',\n",
       " 'T154',\n",
       " 'T155',\n",
       " 'T156',\n",
       " 'T157',\n",
       " 'T158',\n",
       " 'T159',\n",
       " 'T160',\n",
       " 'T161',\n",
       " 'T162',\n",
       " 'T200',\n",
       " 'T200A',\n",
       " 'T200B',\n",
       " 'T206',\n",
       " 'T209',\n",
       " 'T212',\n",
       " 'T215',\n",
       " 'T218',\n",
       " 'T218A',\n",
       " 'T218B',\n",
       " 'T218C',\n",
       " 'T219',\n",
       " 'T220',\n",
       " 'T221',\n",
       " 'T222',\n",
       " 'T223',\n",
       " 'T224',\n",
       " 'T225',\n",
       " 'T226',\n",
       " 'T227',\n",
       " 'T228',\n",
       " 'T229',\n",
       " 'T230',\n",
       " 'T231',\n",
       " 'T232',\n",
       " 'T233',\n",
       " 'T234',\n",
       " 'T235',\n",
       " 'T236',\n",
       " 'T237',\n",
       " 'T238',\n",
       " 'T900',\n",
       " 'T903'}"
      ]
     },
     "execution_count": 10,
     "metadata": {},
     "output_type": "execute_result"
    }
   ],
   "source": [
    "set([x for x in test['Trap'] if x not in train['Trap']]) # ????"
   ]
  },
  {
   "cell_type": "markdown",
   "metadata": {
    "collapsed": true
   },
   "source": [
    "# Cleaning Data and EDA, weather -- Steve"
   ]
  },
  {
   "cell_type": "markdown",
   "metadata": {},
   "source": [
    "NB: Weather data is from May 2007 to the end of October 2014"
   ]
  },
  {
   "cell_type": "markdown",
   "metadata": {},
   "source": [
    "## Checking for Missing Data and Non-numeric Values"
   ]
  },
  {
   "cell_type": "code",
   "execution_count": 11,
   "metadata": {
    "ExecuteTime": {
     "end_time": "2017-11-14T20:05:00.257782Z",
     "start_time": "2017-11-14T20:05:00.241784Z"
    }
   },
   "outputs": [],
   "source": [
    "# Formatting datetime\n",
    "weather['Date'] = pd.to_datetime(weather['Date'], format='%Y/%m/%d')"
   ]
  },
  {
   "cell_type": "code",
   "execution_count": 12,
   "metadata": {
    "ExecuteTime": {
     "end_time": "2017-11-14T20:05:00.397944Z",
     "start_time": "2017-11-14T20:05:00.273783Z"
    }
   },
   "outputs": [],
   "source": [
    "# Replacing missing with Null and only keep certain columns:\n",
    "weather = weather[['Station', 'Date', 'Tmax', 'Tmin', 'Tavg',\n",
    "                   'Depart', 'DewPoint', 'WetBulb', 'PrecipTotal','Sunrise','Sunset']].replace('M', np.NaN)\n",
    "# Sunrise and sunset data is only available from station. That is fine. Replace '-' from that station with Null.\n",
    "weather = weather[['Station', 'Date', 'Tmax', 'Tmin', 'Tavg',\n",
    "                   'Depart', 'DewPoint', 'WetBulb', 'PrecipTotal','Sunrise','Sunset']].replace('-', np.NaN)\n",
    "# Sunrise and sunset data is only available from station. That is fine. Replace '-' from that station with Null.\n",
    "weather = weather[['Station', 'Date', 'Tmax', 'Tmin', 'Tavg',\n",
    "                   'Depart', 'DewPoint', 'WetBulb', 'PrecipTotal','Sunrise','Sunset']].replace('  T', .01)"
   ]
  },
  {
   "cell_type": "code",
   "execution_count": 13,
   "metadata": {
    "ExecuteTime": {
     "end_time": "2017-11-14T20:05:02.235259Z",
     "start_time": "2017-11-14T20:05:00.401943Z"
    }
   },
   "outputs": [],
   "source": [
    "weather_consolidated = weather.groupby(by='Date').agg(lambda x: np.nanmean(pd.to_numeric(x)))\n",
    "weather_consolidated.drop(['Station','Sunrise','Sunset'], axis = 1, inplace=True)"
   ]
  },
  {
   "cell_type": "code",
   "execution_count": 14,
   "metadata": {
    "ExecuteTime": {
     "end_time": "2017-11-14T20:05:02.251233Z",
     "start_time": "2017-11-14T20:05:02.235259Z"
    }
   },
   "outputs": [
    {
     "data": {
      "text/plain": [
       "Tmax           0\n",
       "Tmin           0\n",
       "Tavg           0\n",
       "Depart         0\n",
       "DewPoint       0\n",
       "WetBulb        0\n",
       "PrecipTotal    0\n",
       "dtype: int64"
      ]
     },
     "execution_count": 14,
     "metadata": {},
     "output_type": "execute_result"
    }
   ],
   "source": [
    "# No null values in our averaged and consolidated data set!\n",
    "weather_consolidated.isnull().sum()"
   ]
  },
  {
   "cell_type": "markdown",
   "metadata": {},
   "source": [
    "## Labeling Weather Stations -- Steve"
   ]
  },
  {
   "cell_type": "code",
   "execution_count": 15,
   "metadata": {
    "ExecuteTime": {
     "end_time": "2017-11-14T20:05:02.275234Z",
     "start_time": "2017-11-14T20:05:02.251233Z"
    }
   },
   "outputs": [],
   "source": [
    "weather['Station'] = weather['Station'].astype(str)\n",
    "\n",
    "#Converting to string so I can run the Map function below.\n",
    "\n",
    "weather[\"Station Location\"] = weather[\"Station\"].map(lambda x: \"O'HARE\" if '1' in x else \"MIDWAY\" if '2' in x else \"\")"
   ]
  },
  {
   "cell_type": "code",
   "execution_count": 16,
   "metadata": {
    "ExecuteTime": {
     "end_time": "2017-11-14T20:05:02.293275Z",
     "start_time": "2017-11-14T20:05:02.275234Z"
    }
   },
   "outputs": [],
   "source": [
    "weather['Station'] = weather['Station'].astype(int)\n",
    "#And back to integer now for math usage\n",
    "\n",
    "# O'Hare: 41.970748, -87.908336\n",
    "# Midway: 41.787957, -87.752359\n",
    "\n",
    "weather[\"Latitude\"] = weather[\"Station Location\"].map(lambda x: \"41.970748\" if \"O'HARE\" in x else \"41.787957\" if \"MIDWAY\" in x else \"\")\n",
    "weather[\"Longitude\"] = weather[\"Station Location\"].map(lambda x: \"-87.908336\" if \"O'HARE\" in x else \"-87.752359\" if \"MIDWAY\" in x else \"\")"
   ]
  },
  {
   "cell_type": "code",
   "execution_count": 17,
   "metadata": {
    "ExecuteTime": {
     "end_time": "2017-11-14T20:05:02.319321Z",
     "start_time": "2017-11-14T20:05:02.303287Z"
    }
   },
   "outputs": [],
   "source": [
    "#Mapping latitude and longitude for the airports\n",
    "\n",
    "weather[\"Latitude\"] = weather[\"Latitude\"].astype(float)\n",
    "weather[\"Longitude\"] = weather[\"Longitude\"].astype(float)\n",
    "\n",
    "#Converting the string entries of location back into floats for math usage"
   ]
  },
  {
   "cell_type": "code",
   "execution_count": 18,
   "metadata": {
    "ExecuteTime": {
     "end_time": "2017-11-14T20:05:02.351286Z",
     "start_time": "2017-11-14T20:05:02.323289Z"
    }
   },
   "outputs": [
    {
     "data": {
      "text/html": [
       "<div>\n",
       "<style>\n",
       "    .dataframe thead tr:only-child th {\n",
       "        text-align: right;\n",
       "    }\n",
       "\n",
       "    .dataframe thead th {\n",
       "        text-align: left;\n",
       "    }\n",
       "\n",
       "    .dataframe tbody tr th {\n",
       "        vertical-align: top;\n",
       "    }\n",
       "</style>\n",
       "<table border=\"1\" class=\"dataframe\">\n",
       "  <thead>\n",
       "    <tr style=\"text-align: right;\">\n",
       "      <th></th>\n",
       "      <th>Station</th>\n",
       "      <th>Date</th>\n",
       "      <th>Tmax</th>\n",
       "      <th>Tmin</th>\n",
       "      <th>Tavg</th>\n",
       "      <th>Depart</th>\n",
       "      <th>DewPoint</th>\n",
       "      <th>WetBulb</th>\n",
       "      <th>PrecipTotal</th>\n",
       "      <th>Sunrise</th>\n",
       "      <th>Sunset</th>\n",
       "      <th>Station Location</th>\n",
       "      <th>Latitude</th>\n",
       "      <th>Longitude</th>\n",
       "    </tr>\n",
       "  </thead>\n",
       "  <tbody>\n",
       "    <tr>\n",
       "      <th>0</th>\n",
       "      <td>1</td>\n",
       "      <td>2007-05-01</td>\n",
       "      <td>83</td>\n",
       "      <td>50</td>\n",
       "      <td>67</td>\n",
       "      <td>14</td>\n",
       "      <td>51</td>\n",
       "      <td>56</td>\n",
       "      <td>0.00</td>\n",
       "      <td>0448</td>\n",
       "      <td>1849</td>\n",
       "      <td>O'HARE</td>\n",
       "      <td>41.970748</td>\n",
       "      <td>-87.908336</td>\n",
       "    </tr>\n",
       "    <tr>\n",
       "      <th>1</th>\n",
       "      <td>2</td>\n",
       "      <td>2007-05-01</td>\n",
       "      <td>84</td>\n",
       "      <td>52</td>\n",
       "      <td>68</td>\n",
       "      <td>NaN</td>\n",
       "      <td>51</td>\n",
       "      <td>57</td>\n",
       "      <td>0.00</td>\n",
       "      <td>NaN</td>\n",
       "      <td>NaN</td>\n",
       "      <td>MIDWAY</td>\n",
       "      <td>41.787957</td>\n",
       "      <td>-87.752359</td>\n",
       "    </tr>\n",
       "    <tr>\n",
       "      <th>2</th>\n",
       "      <td>1</td>\n",
       "      <td>2007-05-02</td>\n",
       "      <td>59</td>\n",
       "      <td>42</td>\n",
       "      <td>51</td>\n",
       "      <td>-3</td>\n",
       "      <td>42</td>\n",
       "      <td>47</td>\n",
       "      <td>0.00</td>\n",
       "      <td>0447</td>\n",
       "      <td>1850</td>\n",
       "      <td>O'HARE</td>\n",
       "      <td>41.970748</td>\n",
       "      <td>-87.908336</td>\n",
       "    </tr>\n",
       "    <tr>\n",
       "      <th>3</th>\n",
       "      <td>2</td>\n",
       "      <td>2007-05-02</td>\n",
       "      <td>60</td>\n",
       "      <td>43</td>\n",
       "      <td>52</td>\n",
       "      <td>NaN</td>\n",
       "      <td>42</td>\n",
       "      <td>47</td>\n",
       "      <td>0.00</td>\n",
       "      <td>NaN</td>\n",
       "      <td>NaN</td>\n",
       "      <td>MIDWAY</td>\n",
       "      <td>41.787957</td>\n",
       "      <td>-87.752359</td>\n",
       "    </tr>\n",
       "    <tr>\n",
       "      <th>4</th>\n",
       "      <td>1</td>\n",
       "      <td>2007-05-03</td>\n",
       "      <td>66</td>\n",
       "      <td>46</td>\n",
       "      <td>56</td>\n",
       "      <td>2</td>\n",
       "      <td>40</td>\n",
       "      <td>48</td>\n",
       "      <td>0.00</td>\n",
       "      <td>0446</td>\n",
       "      <td>1851</td>\n",
       "      <td>O'HARE</td>\n",
       "      <td>41.970748</td>\n",
       "      <td>-87.908336</td>\n",
       "    </tr>\n",
       "  </tbody>\n",
       "</table>\n",
       "</div>"
      ],
      "text/plain": [
       "   Station       Date  Tmax  Tmin Tavg Depart  DewPoint WetBulb PrecipTotal  \\\n",
       "0        1 2007-05-01    83    50   67     14        51      56        0.00   \n",
       "1        2 2007-05-01    84    52   68    NaN        51      57        0.00   \n",
       "2        1 2007-05-02    59    42   51     -3        42      47        0.00   \n",
       "3        2 2007-05-02    60    43   52    NaN        42      47        0.00   \n",
       "4        1 2007-05-03    66    46   56      2        40      48        0.00   \n",
       "\n",
       "  Sunrise Sunset Station Location   Latitude  Longitude  \n",
       "0    0448   1849           O'HARE  41.970748 -87.908336  \n",
       "1     NaN    NaN           MIDWAY  41.787957 -87.752359  \n",
       "2    0447   1850           O'HARE  41.970748 -87.908336  \n",
       "3     NaN    NaN           MIDWAY  41.787957 -87.752359  \n",
       "4    0446   1851           O'HARE  41.970748 -87.908336  "
      ]
     },
     "execution_count": 18,
     "metadata": {},
     "output_type": "execute_result"
    }
   ],
   "source": [
    "weather.head()"
   ]
  },
  {
   "cell_type": "code",
   "execution_count": 19,
   "metadata": {
    "ExecuteTime": {
     "end_time": "2017-11-14T20:05:02.375291Z",
     "start_time": "2017-11-14T20:05:02.355287Z"
    }
   },
   "outputs": [],
   "source": [
    "weather2011 = weather.loc[(weather['Date'] > '2011-05-01') & (weather['Date'] <= '2011-10-31')]\n",
    "weather2013 = weather.loc[(weather['Date'] > '2013-05-01') & (weather['Date'] <= '2013-10-31')]\n",
    "\n",
    "#Making a subset of the weather data over just these years as thats all the spray data we have.\n",
    "\n",
    "weather2011 = weather2011.reset_index(drop=True)\n",
    "weather2013 = weather2013.reset_index(drop=True)"
   ]
  },
  {
   "cell_type": "markdown",
   "metadata": {},
   "source": [
    "# Cleaning Data and EDA, spray"
   ]
  },
  {
   "cell_type": "markdown",
   "metadata": {},
   "source": [
    "## Missing data and the like:"
   ]
  },
  {
   "cell_type": "code",
   "execution_count": 20,
   "metadata": {
    "ExecuteTime": {
     "end_time": "2017-11-14T20:05:02.386310Z",
     "start_time": "2017-11-14T20:05:02.375291Z"
    }
   },
   "outputs": [],
   "source": [
    "spray.drop('Time',axis = 1, inplace=True)"
   ]
  },
  {
   "cell_type": "code",
   "execution_count": 21,
   "metadata": {
    "ExecuteTime": {
     "end_time": "2017-11-14T20:05:02.407338Z",
     "start_time": "2017-11-14T20:05:02.388816Z"
    }
   },
   "outputs": [],
   "source": [
    "spray['Date'] = pd.to_datetime(spray['Date'], format='%Y/%m/%d')"
   ]
  },
  {
   "cell_type": "markdown",
   "metadata": {},
   "source": [
    "## Steve's work mapping the spray data:"
   ]
  },
  {
   "cell_type": "code",
   "execution_count": 22,
   "metadata": {
    "ExecuteTime": {
     "end_time": "2017-11-14T20:05:02.423339Z",
     "start_time": "2017-11-14T20:05:02.407338Z"
    }
   },
   "outputs": [
    {
     "data": {
      "text/html": [
       "<div>\n",
       "<style>\n",
       "    .dataframe thead tr:only-child th {\n",
       "        text-align: right;\n",
       "    }\n",
       "\n",
       "    .dataframe thead th {\n",
       "        text-align: left;\n",
       "    }\n",
       "\n",
       "    .dataframe tbody tr th {\n",
       "        vertical-align: top;\n",
       "    }\n",
       "</style>\n",
       "<table border=\"1\" class=\"dataframe\">\n",
       "  <thead>\n",
       "    <tr style=\"text-align: right;\">\n",
       "      <th></th>\n",
       "      <th>Date</th>\n",
       "      <th>Latitude</th>\n",
       "      <th>Longitude</th>\n",
       "    </tr>\n",
       "  </thead>\n",
       "  <tbody>\n",
       "    <tr>\n",
       "      <th>0</th>\n",
       "      <td>2011-08-29</td>\n",
       "      <td>42.391623</td>\n",
       "      <td>-88.089163</td>\n",
       "    </tr>\n",
       "    <tr>\n",
       "      <th>1</th>\n",
       "      <td>2011-08-29</td>\n",
       "      <td>42.391348</td>\n",
       "      <td>-88.089163</td>\n",
       "    </tr>\n",
       "    <tr>\n",
       "      <th>2</th>\n",
       "      <td>2011-08-29</td>\n",
       "      <td>42.391022</td>\n",
       "      <td>-88.089157</td>\n",
       "    </tr>\n",
       "    <tr>\n",
       "      <th>3</th>\n",
       "      <td>2011-08-29</td>\n",
       "      <td>42.390637</td>\n",
       "      <td>-88.089158</td>\n",
       "    </tr>\n",
       "    <tr>\n",
       "      <th>4</th>\n",
       "      <td>2011-08-29</td>\n",
       "      <td>42.390410</td>\n",
       "      <td>-88.088858</td>\n",
       "    </tr>\n",
       "  </tbody>\n",
       "</table>\n",
       "</div>"
      ],
      "text/plain": [
       "        Date   Latitude  Longitude\n",
       "0 2011-08-29  42.391623 -88.089163\n",
       "1 2011-08-29  42.391348 -88.089163\n",
       "2 2011-08-29  42.391022 -88.089157\n",
       "3 2011-08-29  42.390637 -88.089158\n",
       "4 2011-08-29  42.390410 -88.088858"
      ]
     },
     "execution_count": 22,
     "metadata": {},
     "output_type": "execute_result"
    }
   ],
   "source": [
    "spray.head()"
   ]
  },
  {
   "cell_type": "code",
   "execution_count": 23,
   "metadata": {
    "ExecuteTime": {
     "end_time": "2017-11-14T20:05:02.493383Z",
     "start_time": "2017-11-14T20:05:02.423339Z"
    }
   },
   "outputs": [],
   "source": [
    "spray['CombinedLoc'] = spray.Latitude.astype(str).str.cat(spray.Longitude.astype(str), sep=', ')\n",
    "\n",
    "spray.Date.dtype\n",
    "\n",
    "spray['Date'] = pd.to_datetime(spray['Date'], format='%Y/%m/%d')\n",
    "\n",
    "#2011: 08-29 to 09/07\n",
    "#2013: 07-17 to 09/05\n",
    "\n",
    "spray2011 = spray.loc[(spray['Date'] > '2011-08-29') & (spray['Date'] <= '2011-09-07')]\n",
    "spray2013 = spray.loc[(spray['Date'] > '2013-07-17') & (spray['Date'] <= '2013-09-05')]\n",
    "\n",
    "spray2011 = spray2011.reset_index(drop=True)\n",
    "spray2013 = spray2013.reset_index(drop=True)"
   ]
  },
  {
   "cell_type": "code",
   "execution_count": 24,
   "metadata": {
    "ExecuteTime": {
     "end_time": "2017-11-14T20:05:02.511395Z",
     "start_time": "2017-11-14T20:05:02.495390Z"
    }
   },
   "outputs": [
    {
     "data": {
      "text/html": [
       "<div>\n",
       "<style>\n",
       "    .dataframe thead tr:only-child th {\n",
       "        text-align: right;\n",
       "    }\n",
       "\n",
       "    .dataframe thead th {\n",
       "        text-align: left;\n",
       "    }\n",
       "\n",
       "    .dataframe tbody tr th {\n",
       "        vertical-align: top;\n",
       "    }\n",
       "</style>\n",
       "<table border=\"1\" class=\"dataframe\">\n",
       "  <thead>\n",
       "    <tr style=\"text-align: right;\">\n",
       "      <th></th>\n",
       "      <th>Date</th>\n",
       "      <th>Latitude</th>\n",
       "      <th>Longitude</th>\n",
       "      <th>CombinedLoc</th>\n",
       "    </tr>\n",
       "  </thead>\n",
       "  <tbody>\n",
       "    <tr>\n",
       "      <th>0</th>\n",
       "      <td>2011-09-07</td>\n",
       "      <td>41.981433</td>\n",
       "      <td>-87.787777</td>\n",
       "      <td>41.9814333333, -87.7877766667</td>\n",
       "    </tr>\n",
       "    <tr>\n",
       "      <th>1</th>\n",
       "      <td>2011-09-07</td>\n",
       "      <td>41.980998</td>\n",
       "      <td>-87.787778</td>\n",
       "      <td>41.9809983333, -87.7877783333</td>\n",
       "    </tr>\n",
       "    <tr>\n",
       "      <th>2</th>\n",
       "      <td>2011-09-07</td>\n",
       "      <td>41.980560</td>\n",
       "      <td>-87.787762</td>\n",
       "      <td>41.98056, -87.7877616667</td>\n",
       "    </tr>\n",
       "    <tr>\n",
       "      <th>3</th>\n",
       "      <td>2011-09-07</td>\n",
       "      <td>41.980198</td>\n",
       "      <td>-87.787758</td>\n",
       "      <td>41.9801983333, -87.7877583333</td>\n",
       "    </tr>\n",
       "    <tr>\n",
       "      <th>4</th>\n",
       "      <td>2011-09-07</td>\n",
       "      <td>41.979752</td>\n",
       "      <td>-87.787765</td>\n",
       "      <td>41.9797516667, -87.787765</td>\n",
       "    </tr>\n",
       "  </tbody>\n",
       "</table>\n",
       "</div>"
      ],
      "text/plain": [
       "        Date   Latitude  Longitude                    CombinedLoc\n",
       "0 2011-09-07  41.981433 -87.787777  41.9814333333, -87.7877766667\n",
       "1 2011-09-07  41.980998 -87.787778  41.9809983333, -87.7877783333\n",
       "2 2011-09-07  41.980560 -87.787762       41.98056, -87.7877616667\n",
       "3 2011-09-07  41.980198 -87.787758  41.9801983333, -87.7877583333\n",
       "4 2011-09-07  41.979752 -87.787765      41.9797516667, -87.787765"
      ]
     },
     "execution_count": 24,
     "metadata": {},
     "output_type": "execute_result"
    }
   ],
   "source": [
    "spray2011.head()"
   ]
  },
  {
   "cell_type": "markdown",
   "metadata": {},
   "source": [
    "### Spraying locations in 2011:"
   ]
  },
  {
   "cell_type": "code",
   "execution_count": 25,
   "metadata": {
    "ExecuteTime": {
     "end_time": "2017-11-14T20:05:22.432808Z",
     "start_time": "2017-11-14T20:05:02.511395Z"
    }
   },
   "outputs": [],
   "source": [
    "from folium import plugins\n",
    "from folium.plugins import MarkerCluster\n",
    "\n",
    "location2011 = spray2011['Latitude'].mean(), spray2011['Longitude'].mean()\n",
    "# locationlist2011 = spray2011[[\"Latitude\",\"Longitude\"]].values.tolist()\n",
    "\n",
    "map2011 = (folium.Map(location=location2011,zoom_start=13))\n",
    "\n",
    "for index,row in spray2011.iterrows():\n",
    "    folium.CircleMarker([row['Latitude'], row['Longitude']],\n",
    "                        radius=3,\n",
    "                        fill = True,\n",
    "                        color = \"#4286f4\", \n",
    "                        fill_color=\"#4286f4\"\n",
    "                       ).add_to(map2011)\n",
    "\n",
    "map2011.save('2011 Spray.html') "
   ]
  },
  {
   "cell_type": "markdown",
   "metadata": {},
   "source": [
    "### Spraying locations in 2013:"
   ]
  },
  {
   "cell_type": "code",
   "execution_count": 26,
   "metadata": {
    "ExecuteTime": {
     "end_time": "2017-11-14T20:07:05.115943Z",
     "start_time": "2017-11-14T20:05:22.432808Z"
    }
   },
   "outputs": [],
   "source": [
    "map2013 = (folium.Map(location=[41.977049, -87.768738],zoom_start=11))\n",
    "\n",
    "for index,row2 in spray2013.iterrows():\n",
    "    folium.CircleMarker([row2['Latitude'], row2['Longitude']],\n",
    "                       radius=3,\n",
    "                        fill = True,\n",
    "                        color = \"#b22323\", \n",
    "                        fill_color=\"#b22323\", # divvy color\n",
    "                       ).add_to(map2013)\n",
    "\n",
    "map2013.save('2013 Spray.html')"
   ]
  },
  {
   "cell_type": "markdown",
   "metadata": {},
   "source": [
    "### All Spraying Locations (2011 & 2013), clustered together"
   ]
  },
  {
   "cell_type": "code",
   "execution_count": 27,
   "metadata": {
    "ExecuteTime": {
     "end_time": "2017-11-14T20:09:12.827464Z",
     "start_time": "2017-11-14T20:07:05.115943Z"
    }
   },
   "outputs": [],
   "source": [
    "masterspraycluster = (folium.Map(location=[41.843667, -87.803933],zoom_start=10))\n",
    "\n",
    "marker_cluster = MarkerCluster().add_to(masterspraycluster)\n",
    "\n",
    "for index,row in spray2011.iterrows():\n",
    "    folium.CircleMarker([row['Latitude'], row['Longitude']], \n",
    "                        radius=3,\n",
    "                        fill = True,\n",
    "                        color = \"#38ff55\", \n",
    "                        fill_color=\"#38ff55\").add_to(marker_cluster)\n",
    "                       \n",
    "\n",
    "for index, row2 in spray2013.iterrows():\n",
    "    folium.CircleMarker([row2['Latitude'], row2['Longitude']], \n",
    "                        radius=3,\n",
    "                        fill=True, \n",
    "                        color=\"#ff0000\", \n",
    "                        fill_color= \"#ff0000\").add_to(marker_cluster)\n",
    "\n",
    "masterspraycluster.add_child(folium.LatLngPopup())\n",
    "masterspraycluster.save('Master Spray (with Clusters).html')"
   ]
  },
  {
   "cell_type": "markdown",
   "metadata": {},
   "source": [
    "### All Spraying Locations (2011 & 2013), Raw"
   ]
  },
  {
   "cell_type": "code",
   "execution_count": 28,
   "metadata": {
    "ExecuteTime": {
     "end_time": "2017-11-14T20:11:20.965625Z",
     "start_time": "2017-11-14T20:09:12.830473Z"
    }
   },
   "outputs": [],
   "source": [
    "masterspray = (folium.Map(location=[41.843667, -87.803933],zoom_start=10))\n",
    "\n",
    "for index,row in spray2011.iterrows():\n",
    "    folium.CircleMarker([row['Latitude'], row['Longitude']], \n",
    "                        radius=3,\n",
    "                        fill = True,\n",
    "                        color = \"#38ff55\", \n",
    "                        fill_color=\"#38ff55\").add_to(masterspray)\n",
    "                       \n",
    "\n",
    "for index, row2 in spray2013.iterrows():\n",
    "    folium.CircleMarker([row2['Latitude'], row2['Longitude']], \n",
    "                        radius=3,\n",
    "                        fill=True, \n",
    "                        color=\"#ff0000\", \n",
    "                        fill_color= \"#ff0000\").add_to(masterspray)\n",
    "\n",
    "masterspray.add_child(folium.LatLngPopup())\n",
    "masterspray.save('Master Spray.html')"
   ]
  },
  {
   "cell_type": "code",
   "execution_count": 29,
   "metadata": {
    "ExecuteTime": {
     "end_time": "2017-11-14T20:11:20.977626Z",
     "start_time": "2017-11-14T20:11:20.965625Z"
    }
   },
   "outputs": [],
   "source": [
    "# markerspray = (folium.Map(location=[41.843667, -87.803933],zoom_start=10))\n",
    "\n",
    "# locationlist2011 = spray2011[[\"Latitude\",\"Longitude\"]].values.tolist()\n",
    "# locationlist2013 = spray2013[[\"Latitude\",\"Longitude\"]].values.tolist()\n",
    "# icon2011 = folium.Icon(color='red',icon='ok-sign')\n",
    "# icon2013 = folium.Icon(color='green',icon='ok-sign')\n",
    "\n",
    "# for index,row in spray2011.iterrows():\n",
    "#     folium.Marker([row['Latitude'], row['Longitude']], icon=icon2011,\n",
    "#                   popup=str(row['Date'], \n",
    "#                   )).add_to(markerspray)\n",
    "                       \n",
    "\n",
    "# for index, row2 in spray2013.iterrows():\n",
    "#     folium.Marker([row2['Latitude'], row2['Longitude']], icon=icon2013, \n",
    "#                   popup=str(row2['Date'] \n",
    "#                   )).add_to(markerspray)\n",
    "    \n",
    "# markerspray.save('Marker Spray.html')\n",
    "   \n",
    "\n",
    "    \n",
    "#This Currently does not work.  I'll try and figure it out."
   ]
  },
  {
   "cell_type": "code",
   "execution_count": null,
   "metadata": {},
   "outputs": [],
   "source": []
  },
  {
   "cell_type": "markdown",
   "metadata": {},
   "source": [
    "# Merging Train/Test Data and Weather Data"
   ]
  },
  {
   "cell_type": "code",
   "execution_count": 30,
   "metadata": {
    "ExecuteTime": {
     "end_time": "2017-11-14T20:11:20.997628Z",
     "start_time": "2017-11-14T20:11:20.977626Z"
    }
   },
   "outputs": [],
   "source": [
    "two_week_rolling_average = weather_consolidated.rolling(window=14, min_periods=1).mean().reset_index()\n",
    "three_days_rolling_average = weather_consolidated.rolling(window=7, min_periods=1).mean().reset_index()"
   ]
  },
  {
   "cell_type": "code",
   "execution_count": 31,
   "metadata": {
    "ExecuteTime": {
     "end_time": "2017-11-14T20:11:21.017626Z",
     "start_time": "2017-11-14T20:11:20.997628Z"
    }
   },
   "outputs": [
    {
     "data": {
      "text/html": [
       "<div>\n",
       "<style>\n",
       "    .dataframe thead tr:only-child th {\n",
       "        text-align: right;\n",
       "    }\n",
       "\n",
       "    .dataframe thead th {\n",
       "        text-align: left;\n",
       "    }\n",
       "\n",
       "    .dataframe tbody tr th {\n",
       "        vertical-align: top;\n",
       "    }\n",
       "</style>\n",
       "<table border=\"1\" class=\"dataframe\">\n",
       "  <thead>\n",
       "    <tr style=\"text-align: right;\">\n",
       "      <th></th>\n",
       "      <th>Date</th>\n",
       "      <th>Tmax</th>\n",
       "      <th>Tmin</th>\n",
       "      <th>Tavg</th>\n",
       "      <th>Depart</th>\n",
       "      <th>DewPoint</th>\n",
       "      <th>WetBulb</th>\n",
       "      <th>PrecipTotal</th>\n",
       "    </tr>\n",
       "  </thead>\n",
       "  <tbody>\n",
       "    <tr>\n",
       "      <th>0</th>\n",
       "      <td>2007-05-01</td>\n",
       "      <td>83.500000</td>\n",
       "      <td>51.000000</td>\n",
       "      <td>67.500000</td>\n",
       "      <td>14.000000</td>\n",
       "      <td>51.000000</td>\n",
       "      <td>56.500000</td>\n",
       "      <td>0.00000</td>\n",
       "    </tr>\n",
       "    <tr>\n",
       "      <th>1</th>\n",
       "      <td>2007-05-02</td>\n",
       "      <td>71.500000</td>\n",
       "      <td>46.750000</td>\n",
       "      <td>59.500000</td>\n",
       "      <td>5.500000</td>\n",
       "      <td>46.500000</td>\n",
       "      <td>51.750000</td>\n",
       "      <td>0.00000</td>\n",
       "    </tr>\n",
       "    <tr>\n",
       "      <th>2</th>\n",
       "      <td>2007-05-03</td>\n",
       "      <td>69.833333</td>\n",
       "      <td>46.833333</td>\n",
       "      <td>58.666667</td>\n",
       "      <td>4.333333</td>\n",
       "      <td>44.333333</td>\n",
       "      <td>50.833333</td>\n",
       "      <td>0.00000</td>\n",
       "    </tr>\n",
       "    <tr>\n",
       "      <th>3</th>\n",
       "      <td>2007-05-04</td>\n",
       "      <td>70.375000</td>\n",
       "      <td>47.625000</td>\n",
       "      <td>58.500000</td>\n",
       "      <td>4.250000</td>\n",
       "      <td>43.625000</td>\n",
       "      <td>50.625000</td>\n",
       "      <td>0.00125</td>\n",
       "    </tr>\n",
       "    <tr>\n",
       "      <th>4</th>\n",
       "      <td>2007-05-05</td>\n",
       "      <td>69.500000</td>\n",
       "      <td>48.800000</td>\n",
       "      <td>58.800000</td>\n",
       "      <td>4.400000</td>\n",
       "      <td>42.600000</td>\n",
       "      <td>50.400000</td>\n",
       "      <td>0.00300</td>\n",
       "    </tr>\n",
       "  </tbody>\n",
       "</table>\n",
       "</div>"
      ],
      "text/plain": [
       "        Date       Tmax       Tmin       Tavg     Depart   DewPoint  \\\n",
       "0 2007-05-01  83.500000  51.000000  67.500000  14.000000  51.000000   \n",
       "1 2007-05-02  71.500000  46.750000  59.500000   5.500000  46.500000   \n",
       "2 2007-05-03  69.833333  46.833333  58.666667   4.333333  44.333333   \n",
       "3 2007-05-04  70.375000  47.625000  58.500000   4.250000  43.625000   \n",
       "4 2007-05-05  69.500000  48.800000  58.800000   4.400000  42.600000   \n",
       "\n",
       "     WetBulb  PrecipTotal  \n",
       "0  56.500000      0.00000  \n",
       "1  51.750000      0.00000  \n",
       "2  50.833333      0.00000  \n",
       "3  50.625000      0.00125  \n",
       "4  50.400000      0.00300  "
      ]
     },
     "execution_count": 31,
     "metadata": {},
     "output_type": "execute_result"
    }
   ],
   "source": [
    "two_week_rolling_average.head()"
   ]
  },
  {
   "cell_type": "code",
   "execution_count": 32,
   "metadata": {
    "ExecuteTime": {
     "end_time": "2017-11-14T20:11:21.073309Z",
     "start_time": "2017-11-14T20:11:21.017626Z"
    }
   },
   "outputs": [],
   "source": [
    "train = train.merge(two_week_rolling_average, on='Date')\n",
    "test = test.merge(two_week_rolling_average, on='Date')\n",
    "train = train.merge(three_days_rolling_average, on='Date', suffixes = ('_2wks','_3dys'))\n",
    "test = test.merge(three_days_rolling_average, on='Date', suffixes = ('_2wks','_3dys'))"
   ]
  },
  {
   "cell_type": "code",
   "execution_count": 33,
   "metadata": {
    "ExecuteTime": {
     "end_time": "2017-11-14T20:11:21.109310Z",
     "start_time": "2017-11-14T20:11:21.073309Z"
    }
   },
   "outputs": [
    {
     "data": {
      "text/html": [
       "<div>\n",
       "<style>\n",
       "    .dataframe thead tr:only-child th {\n",
       "        text-align: right;\n",
       "    }\n",
       "\n",
       "    .dataframe thead th {\n",
       "        text-align: left;\n",
       "    }\n",
       "\n",
       "    .dataframe tbody tr th {\n",
       "        vertical-align: top;\n",
       "    }\n",
       "</style>\n",
       "<table border=\"1\" class=\"dataframe\">\n",
       "  <thead>\n",
       "    <tr style=\"text-align: right;\">\n",
       "      <th></th>\n",
       "      <th>Date</th>\n",
       "      <th>Species</th>\n",
       "      <th>Trap</th>\n",
       "      <th>Latitude</th>\n",
       "      <th>Longitude</th>\n",
       "      <th>NumMosquitos</th>\n",
       "      <th>WnvPresent</th>\n",
       "      <th>Tmax_2wks</th>\n",
       "      <th>Tmin_2wks</th>\n",
       "      <th>Tavg_2wks</th>\n",
       "      <th>...</th>\n",
       "      <th>DewPoint_2wks</th>\n",
       "      <th>WetBulb_2wks</th>\n",
       "      <th>PrecipTotal_2wks</th>\n",
       "      <th>Tmax_3dys</th>\n",
       "      <th>Tmin_3dys</th>\n",
       "      <th>Tavg_3dys</th>\n",
       "      <th>Depart_3dys</th>\n",
       "      <th>DewPoint_3dys</th>\n",
       "      <th>WetBulb_3dys</th>\n",
       "      <th>PrecipTotal_3dys</th>\n",
       "    </tr>\n",
       "  </thead>\n",
       "  <tbody>\n",
       "    <tr>\n",
       "      <th>0</th>\n",
       "      <td>2007-05-29</td>\n",
       "      <td>CULEX PIPIENS/RESTUANS</td>\n",
       "      <td>T002</td>\n",
       "      <td>41.954690</td>\n",
       "      <td>-87.800991</td>\n",
       "      <td>1</td>\n",
       "      <td>0</td>\n",
       "      <td>76.107143</td>\n",
       "      <td>52.75</td>\n",
       "      <td>64.678571</td>\n",
       "      <td>...</td>\n",
       "      <td>45.357143</td>\n",
       "      <td>54.357143</td>\n",
       "      <td>0.069286</td>\n",
       "      <td>79.0</td>\n",
       "      <td>58.0</td>\n",
       "      <td>68.714286</td>\n",
       "      <td>5.714286</td>\n",
       "      <td>50.928571</td>\n",
       "      <td>58.857143</td>\n",
       "      <td>0.110714</td>\n",
       "    </tr>\n",
       "    <tr>\n",
       "      <th>1</th>\n",
       "      <td>2007-05-29</td>\n",
       "      <td>CULEX RESTUANS</td>\n",
       "      <td>T002</td>\n",
       "      <td>41.954690</td>\n",
       "      <td>-87.800991</td>\n",
       "      <td>1</td>\n",
       "      <td>0</td>\n",
       "      <td>76.107143</td>\n",
       "      <td>52.75</td>\n",
       "      <td>64.678571</td>\n",
       "      <td>...</td>\n",
       "      <td>45.357143</td>\n",
       "      <td>54.357143</td>\n",
       "      <td>0.069286</td>\n",
       "      <td>79.0</td>\n",
       "      <td>58.0</td>\n",
       "      <td>68.714286</td>\n",
       "      <td>5.714286</td>\n",
       "      <td>50.928571</td>\n",
       "      <td>58.857143</td>\n",
       "      <td>0.110714</td>\n",
       "    </tr>\n",
       "    <tr>\n",
       "      <th>2</th>\n",
       "      <td>2007-05-29</td>\n",
       "      <td>CULEX RESTUANS</td>\n",
       "      <td>T007</td>\n",
       "      <td>41.994991</td>\n",
       "      <td>-87.769279</td>\n",
       "      <td>1</td>\n",
       "      <td>0</td>\n",
       "      <td>76.107143</td>\n",
       "      <td>52.75</td>\n",
       "      <td>64.678571</td>\n",
       "      <td>...</td>\n",
       "      <td>45.357143</td>\n",
       "      <td>54.357143</td>\n",
       "      <td>0.069286</td>\n",
       "      <td>79.0</td>\n",
       "      <td>58.0</td>\n",
       "      <td>68.714286</td>\n",
       "      <td>5.714286</td>\n",
       "      <td>50.928571</td>\n",
       "      <td>58.857143</td>\n",
       "      <td>0.110714</td>\n",
       "    </tr>\n",
       "    <tr>\n",
       "      <th>3</th>\n",
       "      <td>2007-05-29</td>\n",
       "      <td>CULEX PIPIENS/RESTUANS</td>\n",
       "      <td>T015</td>\n",
       "      <td>41.974089</td>\n",
       "      <td>-87.824812</td>\n",
       "      <td>1</td>\n",
       "      <td>0</td>\n",
       "      <td>76.107143</td>\n",
       "      <td>52.75</td>\n",
       "      <td>64.678571</td>\n",
       "      <td>...</td>\n",
       "      <td>45.357143</td>\n",
       "      <td>54.357143</td>\n",
       "      <td>0.069286</td>\n",
       "      <td>79.0</td>\n",
       "      <td>58.0</td>\n",
       "      <td>68.714286</td>\n",
       "      <td>5.714286</td>\n",
       "      <td>50.928571</td>\n",
       "      <td>58.857143</td>\n",
       "      <td>0.110714</td>\n",
       "    </tr>\n",
       "    <tr>\n",
       "      <th>4</th>\n",
       "      <td>2007-05-29</td>\n",
       "      <td>CULEX RESTUANS</td>\n",
       "      <td>T015</td>\n",
       "      <td>41.974089</td>\n",
       "      <td>-87.824812</td>\n",
       "      <td>4</td>\n",
       "      <td>0</td>\n",
       "      <td>76.107143</td>\n",
       "      <td>52.75</td>\n",
       "      <td>64.678571</td>\n",
       "      <td>...</td>\n",
       "      <td>45.357143</td>\n",
       "      <td>54.357143</td>\n",
       "      <td>0.069286</td>\n",
       "      <td>79.0</td>\n",
       "      <td>58.0</td>\n",
       "      <td>68.714286</td>\n",
       "      <td>5.714286</td>\n",
       "      <td>50.928571</td>\n",
       "      <td>58.857143</td>\n",
       "      <td>0.110714</td>\n",
       "    </tr>\n",
       "  </tbody>\n",
       "</table>\n",
       "<p>5 rows × 21 columns</p>\n",
       "</div>"
      ],
      "text/plain": [
       "        Date                 Species  Trap   Latitude  Longitude  \\\n",
       "0 2007-05-29  CULEX PIPIENS/RESTUANS  T002  41.954690 -87.800991   \n",
       "1 2007-05-29          CULEX RESTUANS  T002  41.954690 -87.800991   \n",
       "2 2007-05-29          CULEX RESTUANS  T007  41.994991 -87.769279   \n",
       "3 2007-05-29  CULEX PIPIENS/RESTUANS  T015  41.974089 -87.824812   \n",
       "4 2007-05-29          CULEX RESTUANS  T015  41.974089 -87.824812   \n",
       "\n",
       "   NumMosquitos  WnvPresent  Tmax_2wks  Tmin_2wks  Tavg_2wks  \\\n",
       "0             1           0  76.107143      52.75  64.678571   \n",
       "1             1           0  76.107143      52.75  64.678571   \n",
       "2             1           0  76.107143      52.75  64.678571   \n",
       "3             1           0  76.107143      52.75  64.678571   \n",
       "4             4           0  76.107143      52.75  64.678571   \n",
       "\n",
       "         ...         DewPoint_2wks  WetBulb_2wks  PrecipTotal_2wks  Tmax_3dys  \\\n",
       "0        ...             45.357143     54.357143          0.069286       79.0   \n",
       "1        ...             45.357143     54.357143          0.069286       79.0   \n",
       "2        ...             45.357143     54.357143          0.069286       79.0   \n",
       "3        ...             45.357143     54.357143          0.069286       79.0   \n",
       "4        ...             45.357143     54.357143          0.069286       79.0   \n",
       "\n",
       "   Tmin_3dys  Tavg_3dys  Depart_3dys  DewPoint_3dys  WetBulb_3dys  \\\n",
       "0       58.0  68.714286     5.714286      50.928571     58.857143   \n",
       "1       58.0  68.714286     5.714286      50.928571     58.857143   \n",
       "2       58.0  68.714286     5.714286      50.928571     58.857143   \n",
       "3       58.0  68.714286     5.714286      50.928571     58.857143   \n",
       "4       58.0  68.714286     5.714286      50.928571     58.857143   \n",
       "\n",
       "   PrecipTotal_3dys  \n",
       "0          0.110714  \n",
       "1          0.110714  \n",
       "2          0.110714  \n",
       "3          0.110714  \n",
       "4          0.110714  \n",
       "\n",
       "[5 rows x 21 columns]"
      ]
     },
     "execution_count": 33,
     "metadata": {},
     "output_type": "execute_result"
    }
   ],
   "source": [
    "train.head()"
   ]
  },
  {
   "cell_type": "markdown",
   "metadata": {},
   "source": [
    "# Merging Train/Test Data with Spray Data"
   ]
  },
  {
   "cell_type": "code",
   "execution_count": 34,
   "metadata": {
    "ExecuteTime": {
     "end_time": "2017-11-14T20:11:21.129307Z",
     "start_time": "2017-11-14T20:11:21.109310Z"
    }
   },
   "outputs": [
    {
     "data": {
      "text/html": [
       "<div>\n",
       "<style>\n",
       "    .dataframe thead tr:only-child th {\n",
       "        text-align: right;\n",
       "    }\n",
       "\n",
       "    .dataframe thead th {\n",
       "        text-align: left;\n",
       "    }\n",
       "\n",
       "    .dataframe tbody tr th {\n",
       "        vertical-align: top;\n",
       "    }\n",
       "</style>\n",
       "<table border=\"1\" class=\"dataframe\">\n",
       "  <thead>\n",
       "    <tr style=\"text-align: right;\">\n",
       "      <th></th>\n",
       "      <th>Date</th>\n",
       "      <th>Latitude</th>\n",
       "      <th>Longitude</th>\n",
       "      <th>CombinedLoc</th>\n",
       "    </tr>\n",
       "  </thead>\n",
       "  <tbody>\n",
       "    <tr>\n",
       "      <th>0</th>\n",
       "      <td>2011-08-29</td>\n",
       "      <td>42.391623</td>\n",
       "      <td>-88.089163</td>\n",
       "      <td>42.3916233333, -88.0891633333</td>\n",
       "    </tr>\n",
       "    <tr>\n",
       "      <th>1</th>\n",
       "      <td>2011-08-29</td>\n",
       "      <td>42.391348</td>\n",
       "      <td>-88.089163</td>\n",
       "      <td>42.3913483333, -88.0891633333</td>\n",
       "    </tr>\n",
       "    <tr>\n",
       "      <th>2</th>\n",
       "      <td>2011-08-29</td>\n",
       "      <td>42.391022</td>\n",
       "      <td>-88.089157</td>\n",
       "      <td>42.3910216667, -88.0891566667</td>\n",
       "    </tr>\n",
       "    <tr>\n",
       "      <th>3</th>\n",
       "      <td>2011-08-29</td>\n",
       "      <td>42.390637</td>\n",
       "      <td>-88.089158</td>\n",
       "      <td>42.3906366667, -88.0891583333</td>\n",
       "    </tr>\n",
       "    <tr>\n",
       "      <th>4</th>\n",
       "      <td>2011-08-29</td>\n",
       "      <td>42.390410</td>\n",
       "      <td>-88.088858</td>\n",
       "      <td>42.39041, -88.0888583333</td>\n",
       "    </tr>\n",
       "  </tbody>\n",
       "</table>\n",
       "</div>"
      ],
      "text/plain": [
       "        Date   Latitude  Longitude                    CombinedLoc\n",
       "0 2011-08-29  42.391623 -88.089163  42.3916233333, -88.0891633333\n",
       "1 2011-08-29  42.391348 -88.089163  42.3913483333, -88.0891633333\n",
       "2 2011-08-29  42.391022 -88.089157  42.3910216667, -88.0891566667\n",
       "3 2011-08-29  42.390637 -88.089158  42.3906366667, -88.0891583333\n",
       "4 2011-08-29  42.390410 -88.088858       42.39041, -88.0888583333"
      ]
     },
     "execution_count": 34,
     "metadata": {},
     "output_type": "execute_result"
    }
   ],
   "source": [
    "spray.head()"
   ]
  },
  {
   "cell_type": "code",
   "execution_count": 35,
   "metadata": {
    "ExecuteTime": {
     "end_time": "2017-11-14T20:11:21.169419Z",
     "start_time": "2017-11-14T20:11:21.129307Z"
    }
   },
   "outputs": [
    {
     "data": {
      "text/html": [
       "<div>\n",
       "<style>\n",
       "    .dataframe thead tr:only-child th {\n",
       "        text-align: right;\n",
       "    }\n",
       "\n",
       "    .dataframe thead th {\n",
       "        text-align: left;\n",
       "    }\n",
       "\n",
       "    .dataframe tbody tr th {\n",
       "        vertical-align: top;\n",
       "    }\n",
       "</style>\n",
       "<table border=\"1\" class=\"dataframe\">\n",
       "  <thead>\n",
       "    <tr style=\"text-align: right;\">\n",
       "      <th></th>\n",
       "      <th>Date</th>\n",
       "      <th>Species</th>\n",
       "      <th>Trap</th>\n",
       "      <th>Latitude</th>\n",
       "      <th>Longitude</th>\n",
       "      <th>NumMosquitos</th>\n",
       "      <th>WnvPresent</th>\n",
       "      <th>Tmax_2wks</th>\n",
       "      <th>Tmin_2wks</th>\n",
       "      <th>Tavg_2wks</th>\n",
       "      <th>...</th>\n",
       "      <th>DewPoint_2wks</th>\n",
       "      <th>WetBulb_2wks</th>\n",
       "      <th>PrecipTotal_2wks</th>\n",
       "      <th>Tmax_3dys</th>\n",
       "      <th>Tmin_3dys</th>\n",
       "      <th>Tavg_3dys</th>\n",
       "      <th>Depart_3dys</th>\n",
       "      <th>DewPoint_3dys</th>\n",
       "      <th>WetBulb_3dys</th>\n",
       "      <th>PrecipTotal_3dys</th>\n",
       "    </tr>\n",
       "  </thead>\n",
       "  <tbody>\n",
       "    <tr>\n",
       "      <th>0</th>\n",
       "      <td>2007-05-29</td>\n",
       "      <td>CULEX PIPIENS/RESTUANS</td>\n",
       "      <td>T002</td>\n",
       "      <td>41.954690</td>\n",
       "      <td>-87.800991</td>\n",
       "      <td>1</td>\n",
       "      <td>0</td>\n",
       "      <td>76.107143</td>\n",
       "      <td>52.75</td>\n",
       "      <td>64.678571</td>\n",
       "      <td>...</td>\n",
       "      <td>45.357143</td>\n",
       "      <td>54.357143</td>\n",
       "      <td>0.069286</td>\n",
       "      <td>79.0</td>\n",
       "      <td>58.0</td>\n",
       "      <td>68.714286</td>\n",
       "      <td>5.714286</td>\n",
       "      <td>50.928571</td>\n",
       "      <td>58.857143</td>\n",
       "      <td>0.110714</td>\n",
       "    </tr>\n",
       "    <tr>\n",
       "      <th>1</th>\n",
       "      <td>2007-05-29</td>\n",
       "      <td>CULEX RESTUANS</td>\n",
       "      <td>T002</td>\n",
       "      <td>41.954690</td>\n",
       "      <td>-87.800991</td>\n",
       "      <td>1</td>\n",
       "      <td>0</td>\n",
       "      <td>76.107143</td>\n",
       "      <td>52.75</td>\n",
       "      <td>64.678571</td>\n",
       "      <td>...</td>\n",
       "      <td>45.357143</td>\n",
       "      <td>54.357143</td>\n",
       "      <td>0.069286</td>\n",
       "      <td>79.0</td>\n",
       "      <td>58.0</td>\n",
       "      <td>68.714286</td>\n",
       "      <td>5.714286</td>\n",
       "      <td>50.928571</td>\n",
       "      <td>58.857143</td>\n",
       "      <td>0.110714</td>\n",
       "    </tr>\n",
       "    <tr>\n",
       "      <th>2</th>\n",
       "      <td>2007-05-29</td>\n",
       "      <td>CULEX RESTUANS</td>\n",
       "      <td>T007</td>\n",
       "      <td>41.994991</td>\n",
       "      <td>-87.769279</td>\n",
       "      <td>1</td>\n",
       "      <td>0</td>\n",
       "      <td>76.107143</td>\n",
       "      <td>52.75</td>\n",
       "      <td>64.678571</td>\n",
       "      <td>...</td>\n",
       "      <td>45.357143</td>\n",
       "      <td>54.357143</td>\n",
       "      <td>0.069286</td>\n",
       "      <td>79.0</td>\n",
       "      <td>58.0</td>\n",
       "      <td>68.714286</td>\n",
       "      <td>5.714286</td>\n",
       "      <td>50.928571</td>\n",
       "      <td>58.857143</td>\n",
       "      <td>0.110714</td>\n",
       "    </tr>\n",
       "    <tr>\n",
       "      <th>3</th>\n",
       "      <td>2007-05-29</td>\n",
       "      <td>CULEX PIPIENS/RESTUANS</td>\n",
       "      <td>T015</td>\n",
       "      <td>41.974089</td>\n",
       "      <td>-87.824812</td>\n",
       "      <td>1</td>\n",
       "      <td>0</td>\n",
       "      <td>76.107143</td>\n",
       "      <td>52.75</td>\n",
       "      <td>64.678571</td>\n",
       "      <td>...</td>\n",
       "      <td>45.357143</td>\n",
       "      <td>54.357143</td>\n",
       "      <td>0.069286</td>\n",
       "      <td>79.0</td>\n",
       "      <td>58.0</td>\n",
       "      <td>68.714286</td>\n",
       "      <td>5.714286</td>\n",
       "      <td>50.928571</td>\n",
       "      <td>58.857143</td>\n",
       "      <td>0.110714</td>\n",
       "    </tr>\n",
       "    <tr>\n",
       "      <th>4</th>\n",
       "      <td>2007-05-29</td>\n",
       "      <td>CULEX RESTUANS</td>\n",
       "      <td>T015</td>\n",
       "      <td>41.974089</td>\n",
       "      <td>-87.824812</td>\n",
       "      <td>4</td>\n",
       "      <td>0</td>\n",
       "      <td>76.107143</td>\n",
       "      <td>52.75</td>\n",
       "      <td>64.678571</td>\n",
       "      <td>...</td>\n",
       "      <td>45.357143</td>\n",
       "      <td>54.357143</td>\n",
       "      <td>0.069286</td>\n",
       "      <td>79.0</td>\n",
       "      <td>58.0</td>\n",
       "      <td>68.714286</td>\n",
       "      <td>5.714286</td>\n",
       "      <td>50.928571</td>\n",
       "      <td>58.857143</td>\n",
       "      <td>0.110714</td>\n",
       "    </tr>\n",
       "  </tbody>\n",
       "</table>\n",
       "<p>5 rows × 21 columns</p>\n",
       "</div>"
      ],
      "text/plain": [
       "        Date                 Species  Trap   Latitude  Longitude  \\\n",
       "0 2007-05-29  CULEX PIPIENS/RESTUANS  T002  41.954690 -87.800991   \n",
       "1 2007-05-29          CULEX RESTUANS  T002  41.954690 -87.800991   \n",
       "2 2007-05-29          CULEX RESTUANS  T007  41.994991 -87.769279   \n",
       "3 2007-05-29  CULEX PIPIENS/RESTUANS  T015  41.974089 -87.824812   \n",
       "4 2007-05-29          CULEX RESTUANS  T015  41.974089 -87.824812   \n",
       "\n",
       "   NumMosquitos  WnvPresent  Tmax_2wks  Tmin_2wks  Tavg_2wks  \\\n",
       "0             1           0  76.107143      52.75  64.678571   \n",
       "1             1           0  76.107143      52.75  64.678571   \n",
       "2             1           0  76.107143      52.75  64.678571   \n",
       "3             1           0  76.107143      52.75  64.678571   \n",
       "4             4           0  76.107143      52.75  64.678571   \n",
       "\n",
       "         ...         DewPoint_2wks  WetBulb_2wks  PrecipTotal_2wks  Tmax_3dys  \\\n",
       "0        ...             45.357143     54.357143          0.069286       79.0   \n",
       "1        ...             45.357143     54.357143          0.069286       79.0   \n",
       "2        ...             45.357143     54.357143          0.069286       79.0   \n",
       "3        ...             45.357143     54.357143          0.069286       79.0   \n",
       "4        ...             45.357143     54.357143          0.069286       79.0   \n",
       "\n",
       "   Tmin_3dys  Tavg_3dys  Depart_3dys  DewPoint_3dys  WetBulb_3dys  \\\n",
       "0       58.0  68.714286     5.714286      50.928571     58.857143   \n",
       "1       58.0  68.714286     5.714286      50.928571     58.857143   \n",
       "2       58.0  68.714286     5.714286      50.928571     58.857143   \n",
       "3       58.0  68.714286     5.714286      50.928571     58.857143   \n",
       "4       58.0  68.714286     5.714286      50.928571     58.857143   \n",
       "\n",
       "   PrecipTotal_3dys  \n",
       "0          0.110714  \n",
       "1          0.110714  \n",
       "2          0.110714  \n",
       "3          0.110714  \n",
       "4          0.110714  \n",
       "\n",
       "[5 rows x 21 columns]"
      ]
     },
     "execution_count": 35,
     "metadata": {},
     "output_type": "execute_result"
    }
   ],
   "source": [
    "train.head()"
   ]
  },
  {
   "cell_type": "code",
   "execution_count": 36,
   "metadata": {
    "ExecuteTime": {
     "end_time": "2017-11-14T20:11:21.189418Z",
     "start_time": "2017-11-14T20:11:21.169419Z"
    }
   },
   "outputs": [],
   "source": [
    "def recent_spray(row, lat_long_dist, days):\n",
    "    '''Function to determine if, for a given row in training or test set, there has been a spray within\n",
    "    a certain lat_long_dist and specified number of days'''\n",
    "    # Using difference in latitude and longitude as a metric of distance is not quite right  given\n",
    "    # how map projections work but in the interest of time we may want to stick with this. We can circle back later.\n",
    "    \n",
    "    # define our spray conditionals\n",
    "    conDate = spray['Date'] < row['Date']\n",
    "    conRange = spray['Date'] > (row['Date'] - datetime.timedelta(days=days))\n",
    "    conLat = np.abs(row['Latitude'] - spray['Latitude']) < lat_long_dist\n",
    "    conLon = np.abs(row['Longitude'] - spray['Longitude']) < lat_long_dist\n",
    "    conditions = conDate & conRange & conLat & conLon\n",
    "    \n",
    "    recent_sprays = spray[conditions]\n",
    "    # Returns the number of rows in the spray dataframe where each condition is true for the row provided\n",
    "        \n",
    "    # test prints to see what each condition passed in the first recent_sprays definition\n",
    "    #print(sum(row['Date'] > spray['Date']))\n",
    "    #print(str(row['Date'] - spray['Date'] < datetime.timedelta(days=days)))\n",
    "    #print(str(np.abs(row['Latitude'] - spray['Latitude'])))\n",
    "    #print(str(np.abs(row['Longitude'] - spray['Longitude'])))\n",
    "    #return recent_sprays\n",
    "    \n",
    "    return recent_sprays.shape[0]"
   ]
  },
  {
   "cell_type": "code",
   "execution_count": 37,
   "metadata": {
    "ExecuteTime": {
     "end_time": "2017-11-14T20:12:40.425690Z",
     "start_time": "2017-11-14T20:11:21.193418Z"
    }
   },
   "outputs": [],
   "source": [
    "train['Sprayed_lastweek_close'] = [recent_spray(row[1], .005, 7) for row in train.iterrows()]\n",
    "train['Sprayed_lastweek_far'] = [recent_spray(row[1], .2, 7) for row in train.iterrows()]"
   ]
  },
  {
   "cell_type": "code",
   "execution_count": 38,
   "metadata": {
    "ExecuteTime": {
     "end_time": "2017-11-14T20:13:59.716259Z",
     "start_time": "2017-11-14T20:12:40.428581Z"
    }
   },
   "outputs": [],
   "source": [
    "train['Sprayed_last2weeks_close'] = [recent_spray(row[1], .005, 14) for row in train.iterrows()]\n",
    "train['Sprayed_last2weeks_far'] = [recent_spray(row[1], .2, 14) for row in train.iterrows()]"
   ]
  },
  {
   "cell_type": "code",
   "execution_count": 39,
   "metadata": {
    "ExecuteTime": {
     "end_time": "2017-11-14T20:15:15.317489Z",
     "start_time": "2017-11-14T20:13:59.718240Z"
    }
   },
   "outputs": [],
   "source": [
    "test['Sprayed_lastweek_close'] = [recent_spray(row[1], .005, 7) for row in test.iterrows()]\n",
    "test['Sprayed_lastweek_far'] = [recent_spray(row[1], .2, 7) for row in test.iterrows()]"
   ]
  },
  {
   "cell_type": "code",
   "execution_count": 40,
   "metadata": {
    "ExecuteTime": {
     "end_time": "2017-11-14T20:16:43.992498Z",
     "start_time": "2017-11-14T20:15:15.319996Z"
    }
   },
   "outputs": [],
   "source": [
    "test['Sprayed_last2weeks_close'] = [recent_spray(row[1], .005, 14) for row in test.iterrows()]\n",
    "test['Sprayed_last2weeks_far'] = [recent_spray(row[1], .2, 14) for row in test.iterrows()]"
   ]
  },
  {
   "cell_type": "markdown",
   "metadata": {},
   "source": [
    "# Merging All Years Together: Turning Date Column in to 'Week Of' Column"
   ]
  },
  {
   "cell_type": "code",
   "execution_count": 41,
   "metadata": {
    "ExecuteTime": {
     "end_time": "2017-11-14T20:16:44.008541Z",
     "start_time": "2017-11-14T20:16:43.996008Z"
    }
   },
   "outputs": [],
   "source": [
    "train['Week'] = train['Date'].dt.week\n",
    "test['Week'] = test['Date'].dt.week"
   ]
  },
  {
   "cell_type": "markdown",
   "metadata": {},
   "source": [
    "# Elevation Data"
   ]
  },
  {
   "cell_type": "code",
   "execution_count": 42,
   "metadata": {
    "ExecuteTime": {
     "end_time": "2017-11-14T20:16:44.435175Z",
     "start_time": "2017-11-14T20:16:44.011049Z"
    }
   },
   "outputs": [],
   "source": [
    "train_elev = pd.read_csv('assets/TrainWithAlt.csv')\n",
    "test_elev = pd.read_csv('assets/TestWithAlt.csv')"
   ]
  },
  {
   "cell_type": "code",
   "execution_count": 43,
   "metadata": {
    "ExecuteTime": {
     "end_time": "2017-11-14T20:16:44.445704Z",
     "start_time": "2017-11-14T20:16:44.437684Z"
    }
   },
   "outputs": [],
   "source": [
    "train_elev = train_elev[['Trap','Altitude (m)']]\n",
    "test_elev = test_elev[['Trap','Altitude (m)']]"
   ]
  },
  {
   "cell_type": "code",
   "execution_count": 44,
   "metadata": {
    "ExecuteTime": {
     "end_time": "2017-11-14T20:16:55.727307Z",
     "start_time": "2017-11-14T20:16:44.448713Z"
    }
   },
   "outputs": [],
   "source": [
    "train = train.merge(train_elev, on='Trap')\n",
    "test = test.merge(test_elev, on='Trap')"
   ]
  },
  {
   "cell_type": "code",
   "execution_count": 45,
   "metadata": {
    "ExecuteTime": {
     "end_time": "2017-11-14T20:16:55.817548Z",
     "start_time": "2017-11-14T20:16:55.738839Z"
    }
   },
   "outputs": [
    {
     "data": {
      "text/html": [
       "<div>\n",
       "<style>\n",
       "    .dataframe thead tr:only-child th {\n",
       "        text-align: right;\n",
       "    }\n",
       "\n",
       "    .dataframe thead th {\n",
       "        text-align: left;\n",
       "    }\n",
       "\n",
       "    .dataframe tbody tr th {\n",
       "        vertical-align: top;\n",
       "    }\n",
       "</style>\n",
       "<table border=\"1\" class=\"dataframe\">\n",
       "  <thead>\n",
       "    <tr style=\"text-align: right;\">\n",
       "      <th></th>\n",
       "      <th>Date</th>\n",
       "      <th>Species</th>\n",
       "      <th>Trap</th>\n",
       "      <th>Latitude</th>\n",
       "      <th>Longitude</th>\n",
       "      <th>NumMosquitos</th>\n",
       "      <th>WnvPresent</th>\n",
       "      <th>Tmax_2wks</th>\n",
       "      <th>Tmin_2wks</th>\n",
       "      <th>Tavg_2wks</th>\n",
       "      <th>...</th>\n",
       "      <th>Depart_3dys</th>\n",
       "      <th>DewPoint_3dys</th>\n",
       "      <th>WetBulb_3dys</th>\n",
       "      <th>PrecipTotal_3dys</th>\n",
       "      <th>Sprayed_lastweek_close</th>\n",
       "      <th>Sprayed_lastweek_far</th>\n",
       "      <th>Sprayed_last2weeks_close</th>\n",
       "      <th>Sprayed_last2weeks_far</th>\n",
       "      <th>Week</th>\n",
       "      <th>Altitude (m)</th>\n",
       "    </tr>\n",
       "  </thead>\n",
       "  <tbody>\n",
       "    <tr>\n",
       "      <th>0</th>\n",
       "      <td>2007-05-29</td>\n",
       "      <td>CULEX PIPIENS/RESTUANS</td>\n",
       "      <td>T002</td>\n",
       "      <td>41.95469</td>\n",
       "      <td>-87.800991</td>\n",
       "      <td>1</td>\n",
       "      <td>0</td>\n",
       "      <td>76.107143</td>\n",
       "      <td>52.75</td>\n",
       "      <td>64.678571</td>\n",
       "      <td>...</td>\n",
       "      <td>5.714286</td>\n",
       "      <td>50.928571</td>\n",
       "      <td>58.857143</td>\n",
       "      <td>0.110714</td>\n",
       "      <td>0</td>\n",
       "      <td>0</td>\n",
       "      <td>0</td>\n",
       "      <td>0</td>\n",
       "      <td>22</td>\n",
       "      <td>194.1</td>\n",
       "    </tr>\n",
       "    <tr>\n",
       "      <th>1</th>\n",
       "      <td>2007-05-29</td>\n",
       "      <td>CULEX PIPIENS/RESTUANS</td>\n",
       "      <td>T002</td>\n",
       "      <td>41.95469</td>\n",
       "      <td>-87.800991</td>\n",
       "      <td>1</td>\n",
       "      <td>0</td>\n",
       "      <td>76.107143</td>\n",
       "      <td>52.75</td>\n",
       "      <td>64.678571</td>\n",
       "      <td>...</td>\n",
       "      <td>5.714286</td>\n",
       "      <td>50.928571</td>\n",
       "      <td>58.857143</td>\n",
       "      <td>0.110714</td>\n",
       "      <td>0</td>\n",
       "      <td>0</td>\n",
       "      <td>0</td>\n",
       "      <td>0</td>\n",
       "      <td>22</td>\n",
       "      <td>194.1</td>\n",
       "    </tr>\n",
       "    <tr>\n",
       "      <th>2</th>\n",
       "      <td>2007-05-29</td>\n",
       "      <td>CULEX PIPIENS/RESTUANS</td>\n",
       "      <td>T002</td>\n",
       "      <td>41.95469</td>\n",
       "      <td>-87.800991</td>\n",
       "      <td>1</td>\n",
       "      <td>0</td>\n",
       "      <td>76.107143</td>\n",
       "      <td>52.75</td>\n",
       "      <td>64.678571</td>\n",
       "      <td>...</td>\n",
       "      <td>5.714286</td>\n",
       "      <td>50.928571</td>\n",
       "      <td>58.857143</td>\n",
       "      <td>0.110714</td>\n",
       "      <td>0</td>\n",
       "      <td>0</td>\n",
       "      <td>0</td>\n",
       "      <td>0</td>\n",
       "      <td>22</td>\n",
       "      <td>194.1</td>\n",
       "    </tr>\n",
       "    <tr>\n",
       "      <th>3</th>\n",
       "      <td>2007-05-29</td>\n",
       "      <td>CULEX PIPIENS/RESTUANS</td>\n",
       "      <td>T002</td>\n",
       "      <td>41.95469</td>\n",
       "      <td>-87.800991</td>\n",
       "      <td>1</td>\n",
       "      <td>0</td>\n",
       "      <td>76.107143</td>\n",
       "      <td>52.75</td>\n",
       "      <td>64.678571</td>\n",
       "      <td>...</td>\n",
       "      <td>5.714286</td>\n",
       "      <td>50.928571</td>\n",
       "      <td>58.857143</td>\n",
       "      <td>0.110714</td>\n",
       "      <td>0</td>\n",
       "      <td>0</td>\n",
       "      <td>0</td>\n",
       "      <td>0</td>\n",
       "      <td>22</td>\n",
       "      <td>194.1</td>\n",
       "    </tr>\n",
       "    <tr>\n",
       "      <th>4</th>\n",
       "      <td>2007-05-29</td>\n",
       "      <td>CULEX PIPIENS/RESTUANS</td>\n",
       "      <td>T002</td>\n",
       "      <td>41.95469</td>\n",
       "      <td>-87.800991</td>\n",
       "      <td>1</td>\n",
       "      <td>0</td>\n",
       "      <td>76.107143</td>\n",
       "      <td>52.75</td>\n",
       "      <td>64.678571</td>\n",
       "      <td>...</td>\n",
       "      <td>5.714286</td>\n",
       "      <td>50.928571</td>\n",
       "      <td>58.857143</td>\n",
       "      <td>0.110714</td>\n",
       "      <td>0</td>\n",
       "      <td>0</td>\n",
       "      <td>0</td>\n",
       "      <td>0</td>\n",
       "      <td>22</td>\n",
       "      <td>194.1</td>\n",
       "    </tr>\n",
       "  </tbody>\n",
       "</table>\n",
       "<p>5 rows × 27 columns</p>\n",
       "</div>"
      ],
      "text/plain": [
       "        Date                 Species  Trap  Latitude  Longitude  NumMosquitos  \\\n",
       "0 2007-05-29  CULEX PIPIENS/RESTUANS  T002  41.95469 -87.800991             1   \n",
       "1 2007-05-29  CULEX PIPIENS/RESTUANS  T002  41.95469 -87.800991             1   \n",
       "2 2007-05-29  CULEX PIPIENS/RESTUANS  T002  41.95469 -87.800991             1   \n",
       "3 2007-05-29  CULEX PIPIENS/RESTUANS  T002  41.95469 -87.800991             1   \n",
       "4 2007-05-29  CULEX PIPIENS/RESTUANS  T002  41.95469 -87.800991             1   \n",
       "\n",
       "   WnvPresent  Tmax_2wks  Tmin_2wks  Tavg_2wks      ...       Depart_3dys  \\\n",
       "0           0  76.107143      52.75  64.678571      ...          5.714286   \n",
       "1           0  76.107143      52.75  64.678571      ...          5.714286   \n",
       "2           0  76.107143      52.75  64.678571      ...          5.714286   \n",
       "3           0  76.107143      52.75  64.678571      ...          5.714286   \n",
       "4           0  76.107143      52.75  64.678571      ...          5.714286   \n",
       "\n",
       "   DewPoint_3dys  WetBulb_3dys  PrecipTotal_3dys  Sprayed_lastweek_close  \\\n",
       "0      50.928571     58.857143          0.110714                       0   \n",
       "1      50.928571     58.857143          0.110714                       0   \n",
       "2      50.928571     58.857143          0.110714                       0   \n",
       "3      50.928571     58.857143          0.110714                       0   \n",
       "4      50.928571     58.857143          0.110714                       0   \n",
       "\n",
       "   Sprayed_lastweek_far  Sprayed_last2weeks_close  Sprayed_last2weeks_far  \\\n",
       "0                     0                         0                       0   \n",
       "1                     0                         0                       0   \n",
       "2                     0                         0                       0   \n",
       "3                     0                         0                       0   \n",
       "4                     0                         0                       0   \n",
       "\n",
       "   Week  Altitude (m)  \n",
       "0    22         194.1  \n",
       "1    22         194.1  \n",
       "2    22         194.1  \n",
       "3    22         194.1  \n",
       "4    22         194.1  \n",
       "\n",
       "[5 rows x 27 columns]"
      ]
     },
     "execution_count": 45,
     "metadata": {},
     "output_type": "execute_result"
    }
   ],
   "source": [
    "train.head()"
   ]
  },
  {
   "cell_type": "markdown",
   "metadata": {},
   "source": [
    "# Begin modeling"
   ]
  },
  {
   "cell_type": "code",
   "execution_count": 59,
   "metadata": {
    "ExecuteTime": {
     "end_time": "2017-11-14T21:16:23.204238Z",
     "start_time": "2017-11-14T21:16:23.180239Z"
    }
   },
   "outputs": [
    {
     "name": "stdout",
     "output_type": "stream",
     "text": [
      "['Tmax', 'Tmin', 'Tavg', 'Depart', 'DewPoint', 'WetBulb', 'PrecipTotal']\n",
      "[]\n"
     ]
    }
   ],
   "source": []
  },
  {
   "cell_type": "code",
   "execution_count": null,
   "metadata": {
    "ExecuteTime": {
     "end_time": "2017-11-14T20:47:05.404041Z",
     "start_time": "2017-11-14T20:04:53.710Z"
    }
   },
   "outputs": [],
   "source": [
    "train.columns"
   ]
  },
  {
   "cell_type": "code",
   "execution_count": null,
   "metadata": {
    "ExecuteTime": {
     "end_time": "2017-11-14T20:47:05.408039Z",
     "start_time": "2017-11-14T20:04:53.718Z"
    }
   },
   "outputs": [],
   "source": [
    "from sklearn.ensemble import RandomForestClassifier"
   ]
  },
  {
   "cell_type": "code",
   "execution_count": null,
   "metadata": {
    "ExecuteTime": {
     "end_time": "2017-11-14T20:47:05.408039Z",
     "start_time": "2017-11-14T20:04:53.726Z"
    }
   },
   "outputs": [],
   "source": [
    "X = train.drop(['Species','Trap','Date','NumMosquitos','WnvPresent','Station'], axis = 1)\n",
    "y = train['WnvPresent']\n",
    "X_train, X_test, y_train, y_test = train_test_split(X, y)"
   ]
  },
  {
   "cell_type": "code",
   "execution_count": null,
   "metadata": {
    "ExecuteTime": {
     "end_time": "2017-11-14T20:47:05.412040Z",
     "start_time": "2017-11-14T20:04:53.734Z"
    }
   },
   "outputs": [],
   "source": [
    "rf = RandomForestClassifier(10, max_depth = 30)\n",
    "\n",
    "rf = rf.fit(X_train, y_train)\n",
    "\n",
    "rf.score(X_test, y_test)"
   ]
  },
  {
   "cell_type": "code",
   "execution_count": null,
   "metadata": {
    "ExecuteTime": {
     "end_time": "2017-11-14T20:47:05.416039Z",
     "start_time": "2017-11-14T20:04:53.742Z"
    }
   },
   "outputs": [],
   "source": [
    "metrics.roc_auc_score(y_test, rf.predict(X_test))"
   ]
  },
  {
   "cell_type": "code",
   "execution_count": null,
   "metadata": {
    "ExecuteTime": {
     "end_time": "2017-11-14T20:47:05.416039Z",
     "start_time": "2017-11-14T20:04:53.758Z"
    }
   },
   "outputs": [],
   "source": [
    "from sklearn.model_selection import GridSearchCV\n",
    "from sklearn.metrics import make_scorer"
   ]
  },
  {
   "cell_type": "code",
   "execution_count": null,
   "metadata": {
    "ExecuteTime": {
     "end_time": "2017-11-14T20:47:05.421549Z",
     "start_time": "2017-11-14T20:04:53.776Z"
    }
   },
   "outputs": [],
   "source": [
    "rf_grid = GridSearchCV(rf, param_grid={'n_estimators': [10, 50], 'max_depth': [30, 50]},\n",
    "                       scoring=make_scorer(metrics.roc_auc_score))"
   ]
  },
  {
   "cell_type": "code",
   "execution_count": null,
   "metadata": {
    "ExecuteTime": {
     "end_time": "2017-11-14T20:47:05.424056Z",
     "start_time": "2017-11-14T20:04:53.780Z"
    }
   },
   "outputs": [],
   "source": [
    "rf_grid.fit(X_train, y_train)"
   ]
  },
  {
   "cell_type": "code",
   "execution_count": null,
   "metadata": {
    "ExecuteTime": {
     "end_time": "2017-11-14T20:47:05.425560Z",
     "start_time": "2017-11-14T20:04:53.786Z"
    }
   },
   "outputs": [],
   "source": [
    "metrics.roc_auc_score(y_test, rf_grid.predict(X_test))"
   ]
  },
  {
   "cell_type": "markdown",
   "metadata": {
    "collapsed": true
   },
   "source": [
    "# TPOT"
   ]
  },
  {
   "cell_type": "code",
   "execution_count": null,
   "metadata": {},
   "outputs": [],
   "source": [
    "fromt tpot import TPOTc"
   ]
  }
 ],
 "metadata": {
  "kernelspec": {
   "display_name": "Python 3",
   "language": "python",
   "name": "python3"
  },
  "language_info": {
   "codemirror_mode": {
    "name": "ipython",
    "version": 3
   },
   "file_extension": ".py",
   "mimetype": "text/x-python",
   "name": "python",
   "nbconvert_exporter": "python",
   "pygments_lexer": "ipython3",
   "version": "3.6.1"
  },
  "toc": {
   "nav_menu": {},
   "number_sections": true,
   "sideBar": true,
   "skip_h1_title": false,
   "toc_cell": false,
   "toc_position": {},
   "toc_section_display": "block",
   "toc_window_display": false
  },
  "varInspector": {
   "cols": {
    "lenName": 16,
    "lenType": 16,
    "lenVar": 40
   },
   "kernels_config": {
    "python": {
     "delete_cmd_postfix": "",
     "delete_cmd_prefix": "del ",
     "library": "var_list.py",
     "varRefreshCmd": "print(var_dic_list())"
    },
    "r": {
     "delete_cmd_postfix": ") ",
     "delete_cmd_prefix": "rm(",
     "library": "var_list.r",
     "varRefreshCmd": "cat(var_dic_list()) "
    }
   },
   "types_to_exclude": [
    "module",
    "function",
    "builtin_function_or_method",
    "instance",
    "_Feature"
   ],
   "window_display": false
  }
 },
 "nbformat": 4,
 "nbformat_minor": 2
}
