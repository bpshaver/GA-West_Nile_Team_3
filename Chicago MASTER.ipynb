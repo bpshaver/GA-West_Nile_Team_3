{
 "cells": [
  {
   "cell_type": "code",
   "execution_count": 1,
   "metadata": {
    "ExecuteTime": {
     "end_time": "2017-11-16T20:03:45.434118Z",
     "start_time": "2017-11-16T20:03:44.284482Z"
    }
   },
   "outputs": [],
   "source": [
    "import geopandas as gpd\n",
    "import pandas as pd\n",
    "import matplotlib.pyplot as plt\n",
    "import folium\n",
    "from folium import plugins\n",
    "import pickle\n",
    "from scipy.ndimage import imread\n",
    "import gdal, ogr, osr\n",
    "import numpy as np"
   ]
  },
  {
   "cell_type": "code",
   "execution_count": 2,
   "metadata": {
    "ExecuteTime": {
     "end_time": "2017-11-16T20:03:46.122993Z",
     "start_time": "2017-11-16T20:03:45.826631Z"
    }
   },
   "outputs": [],
   "source": [
    "spray = pd.read_csv('/Users/skiparay/Desktop/GA/Projects/project-4/GA-West_Nile_Team_3/assets/spray.csv')\n",
    "train = pd.read_csv('/Users/skiparay/Desktop/GA/Projects/project-4/GA-West_Nile_Team_3/assets/train.csv')\n",
    "test = pd.read_csv('/Users/skiparay/Desktop/GA/Projects/project-4/GA-West_Nile_Team_3/assets/test.csv')"
   ]
  },
  {
   "cell_type": "code",
   "execution_count": 3,
   "metadata": {
    "ExecuteTime": {
     "end_time": "2017-11-16T20:03:47.141390Z",
     "start_time": "2017-11-16T20:03:47.012184Z"
    }
   },
   "outputs": [],
   "source": [
    "testsunique = test.nunique()"
   ]
  },
  {
   "cell_type": "code",
   "execution_count": 4,
   "metadata": {
    "ExecuteTime": {
     "end_time": "2017-11-16T20:03:48.015812Z",
     "start_time": "2017-11-16T20:03:48.010572Z"
    }
   },
   "outputs": [],
   "source": [
    "spray.drop('Time',axis = 1, inplace=True)"
   ]
  },
  {
   "cell_type": "code",
   "execution_count": 5,
   "metadata": {
    "ExecuteTime": {
     "end_time": "2017-11-16T20:03:49.779506Z",
     "start_time": "2017-11-16T20:03:49.771971Z"
    }
   },
   "outputs": [],
   "source": [
    "spray['Date'] = pd.to_datetime(spray['Date'], format='%Y/%m/%d')"
   ]
  },
  {
   "cell_type": "code",
   "execution_count": 6,
   "metadata": {
    "ExecuteTime": {
     "end_time": "2017-11-16T20:03:50.651794Z",
     "start_time": "2017-11-16T20:03:50.638826Z"
    }
   },
   "outputs": [],
   "source": [
    "spray['Date'] = pd.to_datetime(spray['Date'], format='%Y/%m/%d')\n",
    "\n",
    "#2011: 08-29 to 09/07\n",
    "#2013: 07-17 to 09/05\n",
    "\n",
    "spray2011 = spray.loc[(spray['Date'] > '2011-08-29') & (spray['Date'] <= '2011-09-07')]\n",
    "spray2013 = spray.loc[(spray['Date'] > '2013-07-17') & (spray['Date'] <= '2013-09-05')]\n",
    "\n",
    "spray2011 = spray2011.reset_index(drop=True)\n",
    "spray2013 = spray2013.reset_index(drop=True)\n",
    "\n",
    "#Finding spray dates within the years given"
   ]
  },
  {
   "cell_type": "code",
   "execution_count": 7,
   "metadata": {
    "ExecuteTime": {
     "end_time": "2017-11-16T20:03:52.941264Z",
     "start_time": "2017-11-16T20:03:52.936369Z"
    }
   },
   "outputs": [],
   "source": [
    "TrapUnique = train.drop_duplicates(['Trap'])"
   ]
  },
  {
   "cell_type": "code",
   "execution_count": 8,
   "metadata": {
    "ExecuteTime": {
     "end_time": "2017-11-16T20:03:54.296507Z",
     "start_time": "2017-11-16T20:03:54.292556Z"
    }
   },
   "outputs": [],
   "source": [
    "TrapUnique = TrapUnique.reset_index(drop = True)"
   ]
  },
  {
   "cell_type": "code",
   "execution_count": 5,
   "metadata": {
    "ExecuteTime": {
     "end_time": "2017-11-15T13:59:37.884289Z",
     "start_time": "2017-11-15T13:59:37.877384Z"
    },
    "deletable": false,
    "editable": false,
    "run_control": {
     "frozen": true
    }
   },
   "outputs": [],
   "source": [
    "TrapUnique.to_csv('/Users/skiparay/Desktop/GA/Projects/project-4/GA-West_Nile_Team_3/Steve\\'s GIS Shenanigans/TrapUnique.csv')"
   ]
  },
  {
   "cell_type": "code",
   "execution_count": 9,
   "metadata": {
    "ExecuteTime": {
     "end_time": "2017-11-16T20:03:56.250964Z",
     "start_time": "2017-11-16T20:03:56.246512Z"
    }
   },
   "outputs": [],
   "source": [
    "TrapUnique['AddressNumberAndStreet'] = TrapUnique['AddressNumberAndStreet'].str.replace(', Chicago, IL',  '')"
   ]
  },
  {
   "cell_type": "code",
   "execution_count": 10,
   "metadata": {
    "ExecuteTime": {
     "end_time": "2017-11-16T20:03:57.640086Z",
     "start_time": "2017-11-16T20:03:57.602431Z"
    }
   },
   "outputs": [],
   "source": [
    "TrapUnique['CombinedAddress'] = TrapUnique['Trap']+', ' + TrapUnique['AddressNumberAndStreet']"
   ]
  },
  {
   "cell_type": "code",
   "execution_count": 11,
   "metadata": {
    "ExecuteTime": {
     "end_time": "2017-11-16T20:03:58.911506Z",
     "start_time": "2017-11-16T20:03:58.905336Z"
    }
   },
   "outputs": [],
   "source": [
    "TrapLocations = TrapUnique[['Latitude', 'Longitude']]\n",
    "TrapLocationsList = TrapLocations.values.tolist()\n",
    "\n",
    "TrapLabels = TrapUnique[\"CombinedAddress\"].values.tolist()\n",
    "\n",
    "#This cell is setting the labels for each of the markers. When clicked, the marker will display the Street Address and TrapID"
   ]
  },
  {
   "cell_type": "code",
   "execution_count": 12,
   "metadata": {
    "ExecuteTime": {
     "end_time": "2017-11-16T20:04:00.241982Z",
     "start_time": "2017-11-16T20:04:00.200799Z"
    }
   },
   "outputs": [],
   "source": [
    "ZoneMap = folium.Map(location = [41.883808, -87.632296], zoom_start= 10, control_scale=True)"
   ]
  },
  {
   "cell_type": "code",
   "execution_count": 59,
   "metadata": {
    "ExecuteTime": {
     "end_time": "2017-11-17T01:31:32.676864Z",
     "start_time": "2017-11-17T01:30:26.326748Z"
    },
    "run_control": {
     "marked": false
    }
   },
   "outputs": [],
   "source": [
    "#!!!WARNING!!! DO NOT RUN THIS CELL. Doing so will rerun the mapping command, and you will be waiting a while.\n",
    "from folium.plugins import MarkerCluster\n",
    "from folium import IFrame\n",
    "\n",
    "ZoneMap = folium.Map(location = [41.883808, -87.632296], zoom_start= 11, control_scale=True)\n",
    "\n",
    "#City Limits\n",
    "CityLimits = folium.FeatureGroup(name='City Limits')\n",
    "CityLimits.add_child(folium.GeoJson(data='/Users/skiparay/Desktop/GA/Projects/project-4/GA-West_Nile_Team_3/Steve\\'s GIS Shenanigans/ChicagoLimits.geojson'))\n",
    "ZoneMap.add_child(CityLimits)\n",
    "\n",
    "#Adding in the different Zones\n",
    "Zones = folium.FeatureGroup(name = 'Zones')\n",
    "\n",
    "Zones.add_child(folium.GeoJson(data='/Users/skiparay/Desktop/GA/Projects/project-4/GA-West_Nile_Team_3/Steve\\'s GIS Shenanigans/Zone Files/Business.geojson', style_function=lambda x: {'fillColor' : '#ff0000', 'color' : '#ff0000'}, name='Business'))\n",
    "Zones.add_child(folium.GeoJson(data='/Users/skiparay/Desktop/GA/Projects/project-4/GA-West_Nile_Team_3/Steve\\'s GIS Shenanigans/Zone Files/Commercial.geojson', style_function=lambda x: {'fillColor' : '#ff9400', 'color' : '#ff9400'}, name='Commercial').add_to(Zones))\n",
    "Zones.add_child(folium.GeoJson(data='/Users/skiparay/Desktop/GA/Projects/project-4/GA-West_Nile_Team_3/Steve\\'s GIS Shenanigans/Zone Files/Manufacturing.geojson', style_function=lambda x: {'fillColor' : '#fffa00', 'color' : '#fffa00'}, name='Manufacturing').add_to(Zones))\n",
    "Zones.add_child(folium.GeoJson(data='/Users/skiparay/Desktop/GA/Projects/project-4/GA-West_Nile_Team_3/Steve\\'s GIS Shenanigans/Zone Files/Residential.geojson', style_function=lambda x: {'fillColor' : '#72ff00', 'color' : '#72ff00'}, name='Residential').add_to(Zones))\n",
    "Zones.add_child(folium.GeoJson(data='/Users/skiparay/Desktop/GA/Projects/project-4/GA-West_Nile_Team_3/Steve\\'s GIS Shenanigans/Zone Files/Developments.geojson', style_function=lambda x: {'fillColor' : '#00faff', 'color' : '#00faff'}, name='Developments').add_to(Zones))\n",
    "Zones.add_child(folium.GeoJson(data='/Users/skiparay/Desktop/GA/Projects/project-4/GA-West_Nile_Team_3/Steve\\'s GIS Shenanigans/Zone Files/Downtown.geojson', style_function=lambda x: {'fillColor' : '#b302f9', 'color' : '#b302f9'}, name='Downtown').add_to(Zones))\n",
    "Zones.add_child(folium.GeoJson(data='/Users/skiparay/Desktop/GA/Projects/project-4/GA-West_Nile_Team_3/Steve\\'s GIS Shenanigans/Zone Files/PublicParks.geojson', style_function=lambda x: {'fillColor' : '#f901aa', 'color' : '#f901aa'}, name='Public Parks').add_to(Zones))\n",
    "\n",
    "ZoneMap.add_child(Zones)\n",
    "\n",
    "#Marker Clusters for 2011 Spraying Locations  \n",
    "locations2011 = []\n",
    "for index,row in spray2011.iterrows():\n",
    "    locations2011.append([row['Latitude'], row['Longitude']])                           \n",
    "                        \n",
    "s2011 = folium.FeatureGroup(name='2011 Spray Locations')\n",
    "s2011.add_child(MarkerCluster(locations=locations2011, overlay=True))\n",
    "ZoneMap.add_child(s2011)\n",
    "\n",
    "#Marker Clusters for 2013 Spraying Locations  \n",
    "locations2013 = []\n",
    "for index,row in spray2013.iterrows():\n",
    "    locations2013.append([row['Latitude'], row['Longitude']])\n",
    "                          \n",
    "s2013 = folium.FeatureGroup(name='2013 Spray Locations')\n",
    "s2013.add_child(MarkerCluster(locations=locations2013, overlay=True))\n",
    "ZoneMap.add_child(s2013)\n",
    "\n",
    "#Trap Locations\n",
    "TrapMarker = folium.FeatureGroup(name = 'Traps')\n",
    "for i in range(0,len(TrapUnique)):\n",
    "    TrapMarker.add_child(folium.Marker([TrapUnique.iloc[i]['Latitude'], TrapUnique.iloc[i]['Longitude']], popup=TrapUnique.iloc[i]['CombinedAddress']))   \n",
    "ZoneMap.add_child(TrapMarker)\n",
    "\n",
    "ZoneMap.add_child(folium.map.LayerControl())\n",
    "ZoneMap.save('Chicago')\n"
   ]
  },
  {
   "cell_type": "code",
   "execution_count": null,
   "metadata": {
    "ExecuteTime": {
     "end_time": "2017-11-15T21:20:11.773230Z",
     "start_time": "2017-11-15T21:19:56.985200Z"
    }
   },
   "outputs": [],
   "source": []
  }
 ],
 "metadata": {
  "kernelspec": {
   "display_name": "Python 3",
   "language": "python",
   "name": "python3"
  },
  "language_info": {
   "codemirror_mode": {
    "name": "ipython",
    "version": 3
   },
   "file_extension": ".py",
   "mimetype": "text/x-python",
   "name": "python",
   "nbconvert_exporter": "python",
   "pygments_lexer": "ipython3",
   "version": "3.6.3"
  },
  "toc": {
   "nav_menu": {},
   "number_sections": true,
   "sideBar": true,
   "skip_h1_title": false,
   "toc_cell": false,
   "toc_position": {},
   "toc_section_display": "block",
   "toc_window_display": false
  },
  "varInspector": {
   "cols": {
    "lenName": 16,
    "lenType": 16,
    "lenVar": 40
   },
   "kernels_config": {
    "python": {
     "delete_cmd_postfix": "",
     "delete_cmd_prefix": "del ",
     "library": "var_list.py",
     "varRefreshCmd": "print(var_dic_list())"
    },
    "r": {
     "delete_cmd_postfix": ") ",
     "delete_cmd_prefix": "rm(",
     "library": "var_list.r",
     "varRefreshCmd": "cat(var_dic_list()) "
    }
   },
   "types_to_exclude": [
    "module",
    "function",
    "builtin_function_or_method",
    "instance",
    "_Feature"
   ],
   "window_display": false
  }
 },
 "nbformat": 4,
 "nbformat_minor": 2
}
